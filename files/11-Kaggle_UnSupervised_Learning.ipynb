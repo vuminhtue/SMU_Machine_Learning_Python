{
 "cells": [
  {
   "cell_type": "markdown",
   "metadata": {},
   "source": [
    "# 11. Kaggle online competition: Unsupervised Learning\n",
    "\n",
    "\n",
    "In previous chapter, you have worked with Supervised Learning data, now in this chapter, let's confront with another type of ML problem, which is Unsupervised Learning\n",
    "\n",
    "https://www.kaggle.com/majyhain/height-of-male-and-female-by-country-2022\n",
    "\n",
    "![image](https://user-images.githubusercontent.com/43855029/156072300-db4c4630-6653-4fea-9fed-76925011b855.png)\n",
    "\n",
    "_**Project description:**_\n",
    "The metric system is used in most nations to measure height.Despite the fact that the metric system is the most widely used measurement method, we will offer average heights in both metric and imperial units for each country.To be clear, the imperial system utilises feet and inches to measure height, whereas the metric system uses metres and centimetres.Although switching between these measurement units is not difficult, countries tend to choose one over the other in order to maintain uniformity.\n",
    "\n",
    "\n",
    "For simpilicity: I downloaded the data for you and put the data table here:\n",
    "https://raw.githubusercontent.com/vuminhtue/SMU_Machine_Learning_Python/master/data/Height%20of%20Male%20and%20Female%20by%20Country%202022.csv\n",
    "\n",
    "## 10.1 Understand the data\n",
    "\n",
    "\n",
    "There is only 1 csv file: Height of Male and Female by Country 2022\n",
    "\n",
    "The dataset contains six columns:\n",
    "• Rank\n",
    "• Country Name\n",
    "• Male height in Cm\n",
    "• Female height in Cm\n",
    "• Male height in Ft\n",
    "• Female height in Ft\n",
    "\n",
    "\n",
    "**Objective:**\n",
    "- We will use Unsupervised ML to classify the groups of countries having similar heights of male and female\n",
    "- Visualize the output\n"
   ]
  },
  {
   "cell_type": "markdown",
   "metadata": {},
   "source": [
    "## Step 1: Load data from Kaggle Heights dataset"
   ]
  },
  {
   "cell_type": "code",
   "execution_count": null,
   "metadata": {},
   "outputs": [],
   "source": [
    "import pandas as pd\n",
    "import numpy as np"
   ]
  },
  {
   "cell_type": "code",
   "execution_count": null,
   "metadata": {},
   "outputs": [],
   "source": [
    "df = pd.read_csv(\"https://raw.githubusercontent.com/vuminhtue/SMU_Machine_Learning_Python/master/data/Height%20of%20Male%20and%20Female%20by%20Country%202022.csv\")\n",
    "df.head()"
   ]
  },
  {
   "cell_type": "code",
   "execution_count": null,
   "metadata": {},
   "outputs": [],
   "source": [
    "# Select only Male and Female Height in Ft\n",
    "X = df[[\"Male Height in Ft\",\"Female Height in Ft\"]]\n"
   ]
  },
  {
   "cell_type": "code",
   "execution_count": null,
   "metadata": {},
   "outputs": [],
   "source": [
    "X.head()"
   ]
  },
  {
   "cell_type": "markdown",
   "metadata": {},
   "source": [
    "## Step 2: Find the optimal K values:\n",
    "\n",
    "- Using WSS method:\n",
    "\n"
   ]
  },
  {
   "cell_type": "code",
   "execution_count": null,
   "metadata": {},
   "outputs": [],
   "source": [
    "from sklearn.cluster import KMeans\n",
    "import matplotlib.pyplot as plt\n",
    "wss = []\n",
    "for k in range(1,10):\n",
    "    model = KMeans(n_clusters=k).fit(X)\n",
    "    wss.append(model.inertia_)\n",
    "    \n",
    "plt.scatter(range(1,10),wss)\n",
    "plt.plot(range(1,10),wss)\n",
    "plt.xlabel(\"Number of Clusters k\")\n",
    "plt.ylabel(\"Within Sum of Square\")\n",
    "plt.title(\"Optimal number of clusters based on WSS Method\")\n",
    "plt.show()"
   ]
  },
  {
   "cell_type": "markdown",
   "metadata": {},
   "source": [
    "## Step 3: Apply K-Means and plot the clusters:"
   ]
  },
  {
   "cell_type": "code",
   "execution_count": null,
   "metadata": {},
   "outputs": [],
   "source": [
    "X[\"Male Height in Ft\"]"
   ]
  },
  {
   "cell_type": "code",
   "execution_count": null,
   "metadata": {},
   "outputs": [],
   "source": [
    "model_KMeans = KMeans(n_clusters=3)\n",
    "model_KMeans.fit(X)\n",
    "centers = model_KMeans.cluster_centers_\n",
    "df[df[\"Country Name\"]==\"United States\"][\"Male Height in Ft\"]\n",
    "USx = df[df[\"Country Name\"]==\"United States\"][\"Male Height in Ft\"]\n",
    "USy = df[df[\"Country Name\"]==\"United States\"][\"Female Height in Ft\"]\n",
    "\n",
    "plt.scatter(X[\"Male Height in Ft\"],X[\"Female Height in Ft\"],c=model_KMeans.labels_)\n",
    "plt.scatter(centers[:, 0], centers[:, 1], c='black', s=200, alpha=0.5);\n",
    "plt.scatter(USx, USy, c='red', s=200, alpha=0.5);\n",
    "\n",
    "plt.xlabel(\"Male Height in Ft\")\n",
    "plt.ylabel(\"Female Height in Ft\")\n",
    "plt.title('KMeans clustering with 3 clusters')\n",
    "plt.show()"
   ]
  },
  {
   "cell_type": "code",
   "execution_count": null,
   "metadata": {},
   "outputs": [],
   "source": [
    "df[\"Clusters\"] = model_KMeans.labels_"
   ]
  },
  {
   "cell_type": "code",
   "execution_count": null,
   "metadata": {},
   "outputs": [],
   "source": [
    "df[df[\"Clusters\"]==0]"
   ]
  },
  {
   "cell_type": "code",
   "execution_count": null,
   "metadata": {},
   "outputs": [],
   "source": []
  }
 ],
 "metadata": {
  "kernelspec": {
   "display_name": "ML_SKLN",
   "language": "python",
   "name": "ml_skln"
  },
  "language_info": {
   "codemirror_mode": {
    "name": "ipython",
    "version": 3
   },
   "file_extension": ".py",
   "mimetype": "text/x-python",
   "name": "python",
   "nbconvert_exporter": "python",
   "pygments_lexer": "ipython3",
   "version": "3.6.13"
  }
 },
 "nbformat": 4,
 "nbformat_minor": 4
}
