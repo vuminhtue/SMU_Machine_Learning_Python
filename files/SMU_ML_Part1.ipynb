{
 "cells": [
  {
   "cell_type": "markdown",
   "metadata": {
    "pycharm": {
     "name": "#%% md\n"
    }
   },
   "source": [
    "## 2.1 What is Scikit-Learn\n",
    "![image](https://user-images.githubusercontent.com/43855029/114609814-30db9f80-9c6d-11eb-8d4e-781f578e1d79.png)"
   ]
  },
  {
   "cell_type": "markdown",
   "metadata": {
    "pycharm": {
     "name": "#%% md\n"
    }
   },
   "source": [
    "- Scikit-learn is probably the most useful library for machine learning in Python.\n",
    "    - The sklearn library contains a lot of efficient tools for machine learning and statistical modeling including classification, regression, clustering and dimensionality reduction.\n",
    "- The sklearn package contains tools for:\n",
    "\n",
    "```\n",
    "- data splitting\n",
    "- pre-processing\n",
    "- feature selection\n",
    "- model tuning using resampling\n",
    "- variable importance estimation\n",
    "as well as other functionality.\n",
    "\n",
    "```"
   ]
  },
  {
   "cell_type": "markdown",
   "metadata": {
    "pycharm": {
     "name": "#%% md\n"
    }
   },
   "source": [
    "## 2.2 Install sklearn\n",
    "We have installed kernel **ML_SKLN** which contains the scikit-learn package in M2. More information can be found in the setup page\n"
   ]
  },
  {
   "cell_type": "markdown",
   "metadata": {
    "pycharm": {
     "name": "#%% md\n"
    }
   },
   "source": [
    "## 2.3 Pre-processing using sklearn\n",
    "There are several steps that we will use `sklearn` for. For preprocessing raw data, we will use `sklearn` in these tasks:\n",
    "- Preprocessing with missing values\n",
    "- Preprocessing: transform data\n"
   ]
  },
  {
   "cell_type": "markdown",
   "metadata": {
    "pycharm": {
     "name": "#%% md\n"
    }
   },
   "source": [
    "### 2.3.1 Pre-processing with missing value\n",
    "- Most of the time the input data has missing values (`NA, NaN, Inf`) due to data collection issue (power, sensor, personel).\n",
    "- There are three main problems that missing data causes: missing data can introduce a substantial amount of bias, make the handling and analysis of the data more arduous, and create reductions in efficiency\n",
    "- These missing values need to be treated/cleaned before we can use because \"Garbage in => Garbage out\".\n",
    "- There are several ways to treat the missing values:\n"
   ]
  },
  {
   "cell_type": "markdown",
   "metadata": {
    "pycharm": {
     "name": "#%% md\n"
    }
   },
   "source": [
    "![image](https://user-images.githubusercontent.com/43855029/153270189-5bf6f452-64ab-4af7-b30d-de985c8c5661.png)\n",
    "[source](https://www.kaggle.com/parulpandey/a-guide-to-handling-missing-values-in-python)"
   ]
  },
  {
   "cell_type": "code",
   "execution_count": 1,
   "metadata": {
    "collapsed": false,
    "jupyter": {
     "outputs_hidden": false
    },
    "pycharm": {
     "name": "#%%\n"
    }
   },
   "outputs": [
    {
     "data": {
      "text/html": [
       "<div>\n",
       "<style scoped>\n",
       "    .dataframe tbody tr th:only-of-type {\n",
       "        vertical-align: middle;\n",
       "    }\n",
       "\n",
       "    .dataframe tbody tr th {\n",
       "        vertical-align: top;\n",
       "    }\n",
       "\n",
       "    .dataframe thead th {\n",
       "        text-align: right;\n",
       "    }\n",
       "</style>\n",
       "<table border=\"1\" class=\"dataframe\">\n",
       "  <thead>\n",
       "    <tr style=\"text-align: right;\">\n",
       "      <th></th>\n",
       "      <th>Ozone</th>\n",
       "      <th>Solar.R</th>\n",
       "      <th>Wind</th>\n",
       "      <th>Temp</th>\n",
       "      <th>Month</th>\n",
       "      <th>Day</th>\n",
       "    </tr>\n",
       "  </thead>\n",
       "  <tbody>\n",
       "    <tr>\n",
       "      <th>0</th>\n",
       "      <td>41.0</td>\n",
       "      <td>190.0</td>\n",
       "      <td>7.4</td>\n",
       "      <td>67</td>\n",
       "      <td>5</td>\n",
       "      <td>1</td>\n",
       "    </tr>\n",
       "    <tr>\n",
       "      <th>1</th>\n",
       "      <td>36.0</td>\n",
       "      <td>118.0</td>\n",
       "      <td>8.0</td>\n",
       "      <td>72</td>\n",
       "      <td>5</td>\n",
       "      <td>2</td>\n",
       "    </tr>\n",
       "    <tr>\n",
       "      <th>2</th>\n",
       "      <td>12.0</td>\n",
       "      <td>149.0</td>\n",
       "      <td>12.6</td>\n",
       "      <td>74</td>\n",
       "      <td>5</td>\n",
       "      <td>3</td>\n",
       "    </tr>\n",
       "    <tr>\n",
       "      <th>3</th>\n",
       "      <td>18.0</td>\n",
       "      <td>313.0</td>\n",
       "      <td>11.5</td>\n",
       "      <td>62</td>\n",
       "      <td>5</td>\n",
       "      <td>4</td>\n",
       "    </tr>\n",
       "    <tr>\n",
       "      <th>4</th>\n",
       "      <td>NaN</td>\n",
       "      <td>NaN</td>\n",
       "      <td>14.3</td>\n",
       "      <td>56</td>\n",
       "      <td>5</td>\n",
       "      <td>5</td>\n",
       "    </tr>\n",
       "  </tbody>\n",
       "</table>\n",
       "</div>"
      ],
      "text/plain": [
       "   Ozone  Solar.R  Wind  Temp  Month  Day\n",
       "0   41.0    190.0   7.4    67      5    1\n",
       "1   36.0    118.0   8.0    72      5    2\n",
       "2   12.0    149.0  12.6    74      5    3\n",
       "3   18.0    313.0  11.5    62      5    4\n",
       "4    NaN      NaN  14.3    56      5    5"
      ]
     },
     "execution_count": 1,
     "metadata": {},
     "output_type": "execute_result"
    }
   ],
   "source": [
    "#### Read in data with missing value and check the missing values:\n",
    "\n",
    "import pandas as pd\n",
    "data_df = pd.read_csv('https://raw.githubusercontent.com/vuminhtue/SMU_Machine_Learning_Python/master/data/airquality.csv')\n",
    "data_df.head()\n"
   ]
  },
  {
   "cell_type": "code",
   "execution_count": 2,
   "metadata": {},
   "outputs": [
    {
     "data": {
      "text/plain": [
       "(153, 6)"
      ]
     },
     "execution_count": 2,
     "metadata": {},
     "output_type": "execute_result"
    }
   ],
   "source": [
    "data_df.shape"
   ]
  },
  {
   "cell_type": "code",
   "execution_count": 3,
   "metadata": {},
   "outputs": [
    {
     "data": {
      "text/plain": [
       "Ozone      37\n",
       "Solar.R     7\n",
       "Wind        0\n",
       "Temp        0\n",
       "Month       0\n",
       "Day         0\n",
       "dtype: int64"
      ]
     },
     "execution_count": 3,
     "metadata": {},
     "output_type": "execute_result"
    }
   ],
   "source": [
    "data_df.isnull().sum()"
   ]
  },
  {
   "cell_type": "markdown",
   "metadata": {
    "pycharm": {
     "name": "#%% md\n"
    }
   },
   "source": [
    "#### Method 1: ignore missing values:\n",
    "Many functions in python ignore the missing values, for example, the mean & count function:"
   ]
  },
  {
   "cell_type": "code",
   "execution_count": 4,
   "metadata": {
    "collapsed": false,
    "jupyter": {
     "outputs_hidden": false
    },
    "pycharm": {
     "name": "#%%\n"
    }
   },
   "outputs": [
    {
     "name": "stdout",
     "output_type": "stream",
     "text": [
      "42.12931034482759\n",
      "116\n"
     ]
    }
   ],
   "source": [
    "print(data_df['Ozone'].mean())\n",
    "print(data_df['Ozone'].count())"
   ]
  },
  {
   "cell_type": "markdown",
   "metadata": {
    "pycharm": {
     "name": "#%% md\n"
    }
   },
   "source": [
    "You will see that the count function only prints 116 values (out of 153 values (including NA) in total) of The columns of \"Ozone\"."
   ]
  },
  {
   "cell_type": "markdown",
   "metadata": {
    "pycharm": {
     "name": "#%% md\n"
    }
   },
   "source": [
    "#### Method 2: remove entire row with missing `NA` values"
   ]
  },
  {
   "cell_type": "code",
   "execution_count": 5,
   "metadata": {
    "collapsed": false,
    "jupyter": {
     "outputs_hidden": false
    },
    "pycharm": {
     "name": "#%%\n"
    }
   },
   "outputs": [],
   "source": [
    "data2 = data_df.dropna()"
   ]
  },
  {
   "cell_type": "markdown",
   "metadata": {
    "pycharm": {
     "name": "#%% md\n"
    }
   },
   "source": [
    "#### Method 3: drop the entire column (not recommended):"
   ]
  },
  {
   "cell_type": "code",
   "execution_count": 6,
   "metadata": {
    "collapsed": false,
    "jupyter": {
     "outputs_hidden": false
    },
    "pycharm": {
     "name": "#%%\n"
    }
   },
   "outputs": [],
   "source": [
    "data3 = data_df.drop(\"Ozone\",axis=1)\n"
   ]
  },
  {
   "cell_type": "markdown",
   "metadata": {
    "pycharm": {
     "name": "#%% md\n"
    }
   },
   "source": [
    "Note: axis = 1 (column), axis = 0 (row"
   ]
  },
  {
   "cell_type": "markdown",
   "metadata": {
    "pycharm": {
     "name": "#%% md\n"
    }
   },
   "source": [
    "#### Method 4: Fill NA with constant values"
   ]
  },
  {
   "cell_type": "markdown",
   "metadata": {
    "pycharm": {
     "name": "#%% md\n"
    }
   },
   "source": [
    "Often times, the missing data can be set to 0 or 1 (or any other meaningful data set in your field):\n",
    "The Following code fill the missing value with 0:"
   ]
  },
  {
   "cell_type": "code",
   "execution_count": 7,
   "metadata": {
    "collapsed": false,
    "jupyter": {
     "outputs_hidden": false
    },
    "pycharm": {
     "name": "#%%\n"
    }
   },
   "outputs": [],
   "source": [
    "data4 = data_df.copy()\n",
    "data4.fillna(0, inplace=True)"
   ]
  },
  {
   "cell_type": "markdown",
   "metadata": {
    "pycharm": {
     "name": "#%% md\n"
    }
   },
   "source": [
    "#### Method 5: Fill `NA` to mean/median/max/min value\n",
    "Very similar to filling with constant value:"
   ]
  },
  {
   "cell_type": "code",
   "execution_count": 8,
   "metadata": {
    "collapsed": false,
    "jupyter": {
     "outputs_hidden": false
    },
    "pycharm": {
     "name": "#%%\n"
    }
   },
   "outputs": [],
   "source": [
    "data5 = data_df.copy()\n",
    "data5.fillna(data5.mean(), inplace=True)"
   ]
  },
  {
   "cell_type": "markdown",
   "metadata": {
    "pycharm": {
     "name": "#%% md\n"
    }
   },
   "source": [
    "Or using **SimpleImputer** function from **sklearn**:"
   ]
  },
  {
   "cell_type": "code",
   "execution_count": 9,
   "metadata": {
    "collapsed": false,
    "jupyter": {
     "outputs_hidden": false
    },
    "pycharm": {
     "name": "#%%\n"
    }
   },
   "outputs": [],
   "source": [
    "import numpy as np\n",
    "from sklearn.impute import SimpleImputer\n",
    "imputer = SimpleImputer(missing_values=np.nan, strategy='mean')\n",
    "data5 = pd.DataFrame(imputer.fit_transform(data_df))\n",
    "data5.columns = data_df.columns"
   ]
  },
  {
   "cell_type": "markdown",
   "metadata": {
    "pycharm": {
     "name": "#%% md\n"
    }
   },
   "source": [
    "**Note:**\n",
    "SimpleImputer converts missing values to **mean, median, most_frequent and constant**."
   ]
  },
  {
   "cell_type": "markdown",
   "metadata": {
    "pycharm": {
     "name": "#%% md\n"
    }
   },
   "source": [
    "#### Method 6: **Advanced** Use KN-based `Impute` to handle missing values\n",
    "\n",
    "In statistics, imputation is the process of replacing missing data with substituted values. Because missing data can create problems for analyzing data, imputation is seen as a way to avoid pitfalls involved with listwise deletion of cases that have missing values. That is to say, when one or more values are missing for a case, most statistical packages default to discarding any case that has a missing value, which may introduce bias or affect the representativeness of the results. Imputation preserves all cases by replacing missing data with an estimated value based on other available information. Once all missing values have been imputed, the data set can then be analysed using standard techniques for complete data. There have been many theories embraced by scientists to account for missing data but the majority of them introduce bias. A few of the well known attempts to deal with missing data include: hot deck and cold deck imputation; listwise and pairwise deletion; mean imputation; non-negative matrix factorization; regression imputation; last observation carried forward; stochastic imputation; and multiple imputation.\n",
    "\n",
    "`knnImpute` can also be used to fill in missing value\n"
   ]
  },
  {
   "cell_type": "code",
   "execution_count": 10,
   "metadata": {
    "collapsed": false,
    "jupyter": {
     "outputs_hidden": false
    },
    "pycharm": {
     "name": "#%%\n"
    }
   },
   "outputs": [],
   "source": [
    "from sklearn.impute import KNNImputer\n",
    "imputer = KNNImputer(n_neighbors=2, weights=\"uniform\")\n",
    "data_knnimpute = pd.DataFrame(imputer.fit_transform(data_df))\n",
    "data_knnimpute.columns = data_df.columns"
   ]
  },
  {
   "cell_type": "markdown",
   "metadata": {
    "pycharm": {
     "name": "#%% md\n"
    }
   },
   "source": [
    "**Note:**\n",
    "- In addition to KNNImputer, there are **IterativeImputer** similar to **MICE** in R (Multivariate imputer that estimates each feature from all the others) and **MissingIndicator**(Binary indicators for missing values)\n",
    "- More information on sklearn.impute can be found [here](https://scikit-learn.org/stable/modules/classes.html#module-sklearn.impute)"
   ]
  },
  {
   "cell_type": "code",
   "execution_count": 11,
   "metadata": {},
   "outputs": [],
   "source": [
    "from sklearn.experimental import enable_iterative_imputer\n",
    "from sklearn.impute import IterativeImputer\n",
    "Iimputer = IterativeImputer()\n",
    "data_mice = pd.DataFrame(Iimputer.fit_transform(data_df))\n",
    "data_mice.columns = data_df.columns"
   ]
  },
  {
   "cell_type": "markdown",
   "metadata": {
    "pycharm": {
     "name": "#%% md\n"
    }
   },
   "source": [
    "### 2.3.2 Pre-processing with Transforming data\n",
    "#### 2.3.2.1 Using Standardization\n",
    "![image](https://user-images.githubusercontent.com/43855029/114231774-df6ba180-9948-11eb-9c61-3d2e0d3df889.png)\n",
    "\n",
    "- Standardization comes into picture when features of input data set have large differences between their ranges, or simply when they are measured in different measurement units for example: rainfall (0-1000mm), temperature (-10 to 40oC), humidity (0-100%), etc.\n",
    "- Standardition Convert all independent variables into the same scale (mean=0, std=1)\n",
    "- These differences in the ranges of initial features causes trouble to many machine learning models. For example, for the models that are based on distance computation, if one of the features has a broad range of values, the distance will be governed by this particular feature.\n",
    "- The example below use data from above:"
   ]
  },
  {
   "cell_type": "code",
   "execution_count": 12,
   "metadata": {
    "collapsed": false,
    "jupyter": {
     "outputs_hidden": false
    },
    "pycharm": {
     "name": "#%%\n"
    }
   },
   "outputs": [
    {
     "data": {
      "text/html": [
       "<div>\n",
       "<style scoped>\n",
       "    .dataframe tbody tr th:only-of-type {\n",
       "        vertical-align: middle;\n",
       "    }\n",
       "\n",
       "    .dataframe tbody tr th {\n",
       "        vertical-align: top;\n",
       "    }\n",
       "\n",
       "    .dataframe thead th {\n",
       "        text-align: right;\n",
       "    }\n",
       "</style>\n",
       "<table border=\"1\" class=\"dataframe\">\n",
       "  <thead>\n",
       "    <tr style=\"text-align: right;\">\n",
       "      <th></th>\n",
       "      <th>Ozone</th>\n",
       "      <th>Solar.R</th>\n",
       "      <th>Wind</th>\n",
       "      <th>Temp</th>\n",
       "      <th>Month</th>\n",
       "      <th>Day</th>\n",
       "    </tr>\n",
       "  </thead>\n",
       "  <tbody>\n",
       "    <tr>\n",
       "      <th>0</th>\n",
       "      <td>-0.004390</td>\n",
       "      <td>0.047816</td>\n",
       "      <td>-0.728332</td>\n",
       "      <td>-1.153490</td>\n",
       "      <td>-1.411916</td>\n",
       "      <td>-1.677270</td>\n",
       "    </tr>\n",
       "    <tr>\n",
       "      <th>1</th>\n",
       "      <td>-0.164304</td>\n",
       "      <td>-0.762561</td>\n",
       "      <td>-0.557464</td>\n",
       "      <td>-0.623508</td>\n",
       "      <td>-1.411916</td>\n",
       "      <td>-1.564021</td>\n",
       "    </tr>\n",
       "    <tr>\n",
       "      <th>2</th>\n",
       "      <td>-0.931895</td>\n",
       "      <td>-0.413648</td>\n",
       "      <td>0.752529</td>\n",
       "      <td>-0.411515</td>\n",
       "      <td>-1.411916</td>\n",
       "      <td>-1.450772</td>\n",
       "    </tr>\n",
       "    <tr>\n",
       "      <th>3</th>\n",
       "      <td>-0.739997</td>\n",
       "      <td>1.432211</td>\n",
       "      <td>0.439270</td>\n",
       "      <td>-1.683472</td>\n",
       "      <td>-1.411916</td>\n",
       "      <td>-1.337523</td>\n",
       "    </tr>\n",
       "    <tr>\n",
       "      <th>4</th>\n",
       "      <td>-0.724006</td>\n",
       "      <td>0.227900</td>\n",
       "      <td>1.236657</td>\n",
       "      <td>-2.319450</td>\n",
       "      <td>-1.411916</td>\n",
       "      <td>-1.224274</td>\n",
       "    </tr>\n",
       "    <tr>\n",
       "      <th>...</th>\n",
       "      <td>...</td>\n",
       "      <td>...</td>\n",
       "      <td>...</td>\n",
       "      <td>...</td>\n",
       "      <td>...</td>\n",
       "      <td>...</td>\n",
       "    </tr>\n",
       "    <tr>\n",
       "      <th>148</th>\n",
       "      <td>-0.356202</td>\n",
       "      <td>0.081582</td>\n",
       "      <td>-0.870723</td>\n",
       "      <td>-0.835501</td>\n",
       "      <td>1.421174</td>\n",
       "      <td>1.153956</td>\n",
       "    </tr>\n",
       "    <tr>\n",
       "      <th>149</th>\n",
       "      <td>-0.532108</td>\n",
       "      <td>-0.458669</td>\n",
       "      <td>0.923398</td>\n",
       "      <td>-0.093526</td>\n",
       "      <td>1.421174</td>\n",
       "      <td>1.267205</td>\n",
       "    </tr>\n",
       "    <tr>\n",
       "      <th>150</th>\n",
       "      <td>-0.867929</td>\n",
       "      <td>0.059072</td>\n",
       "      <td>1.236657</td>\n",
       "      <td>-0.305519</td>\n",
       "      <td>1.421174</td>\n",
       "      <td>1.380454</td>\n",
       "    </tr>\n",
       "    <tr>\n",
       "      <th>151</th>\n",
       "      <td>-0.739997</td>\n",
       "      <td>-0.616243</td>\n",
       "      <td>-0.557464</td>\n",
       "      <td>-0.199523</td>\n",
       "      <td>1.421174</td>\n",
       "      <td>1.493703</td>\n",
       "    </tr>\n",
       "    <tr>\n",
       "      <th>152</th>\n",
       "      <td>-0.676031</td>\n",
       "      <td>0.419239</td>\n",
       "      <td>0.439270</td>\n",
       "      <td>-1.047493</td>\n",
       "      <td>1.421174</td>\n",
       "      <td>1.606952</td>\n",
       "    </tr>\n",
       "  </tbody>\n",
       "</table>\n",
       "<p>153 rows × 6 columns</p>\n",
       "</div>"
      ],
      "text/plain": [
       "        Ozone   Solar.R      Wind      Temp     Month       Day\n",
       "0   -0.004390  0.047816 -0.728332 -1.153490 -1.411916 -1.677270\n",
       "1   -0.164304 -0.762561 -0.557464 -0.623508 -1.411916 -1.564021\n",
       "2   -0.931895 -0.413648  0.752529 -0.411515 -1.411916 -1.450772\n",
       "3   -0.739997  1.432211  0.439270 -1.683472 -1.411916 -1.337523\n",
       "4   -0.724006  0.227900  1.236657 -2.319450 -1.411916 -1.224274\n",
       "..        ...       ...       ...       ...       ...       ...\n",
       "148 -0.356202  0.081582 -0.870723 -0.835501  1.421174  1.153956\n",
       "149 -0.532108 -0.458669  0.923398 -0.093526  1.421174  1.267205\n",
       "150 -0.867929  0.059072  1.236657 -0.305519  1.421174  1.380454\n",
       "151 -0.739997 -0.616243 -0.557464 -0.199523  1.421174  1.493703\n",
       "152 -0.676031  0.419239  0.439270 -1.047493  1.421174  1.606952\n",
       "\n",
       "[153 rows x 6 columns]"
      ]
     },
     "execution_count": 12,
     "metadata": {},
     "output_type": "execute_result"
    }
   ],
   "source": [
    "from sklearn.preprocessing import scale\n",
    "data_std = pd.DataFrame(scale(data_knnimpute,axis=0, with_mean=True, with_std=True, copy=True))\n",
    "# axis used to compute the means and standard deviations along. If 0, independently standardize each feature, otherwise (if 1) standardize each sample.\n",
    "data_std.columns = data_knnimpute.columns\n",
    "data_std"
   ]
  },
  {
   "cell_type": "markdown",
   "metadata": {
    "pycharm": {
     "name": "#%% md\n"
    }
   },
   "source": [
    "#### 2.3.2.2 Using scaling with predefine range\n",
    "Transform features by scaling each feature to a given range.\n",
    "This estimator scales and translates each feature individually such that it is in the given range on the training set, e.g. between zero and one.\n",
    "Formulation for this is:"
   ]
  },
  {
   "cell_type": "markdown",
   "metadata": {
    "jupyter": {
     "outputs_hidden": false
    },
    "pycharm": {
     "name": "#%%\n"
    }
   },
   "source": [
    "X_std = (X - X.min(axis=0)) / (X.max(axis=0) - X.min(axis=0))\n",
    "\n",
    "X_scaled = X_std * (max - min) + min\n",
    "\n",
    "In sklearn, we can use the **MinMaxScaler** function from preprocessing toolbox"
   ]
  },
  {
   "cell_type": "code",
   "execution_count": 13,
   "metadata": {
    "collapsed": false,
    "jupyter": {
     "outputs_hidden": false
    },
    "pycharm": {
     "name": "#%%\n"
    }
   },
   "outputs": [
    {
     "data": {
      "text/html": [
       "<div>\n",
       "<style scoped>\n",
       "    .dataframe tbody tr th:only-of-type {\n",
       "        vertical-align: middle;\n",
       "    }\n",
       "\n",
       "    .dataframe tbody tr th {\n",
       "        vertical-align: top;\n",
       "    }\n",
       "\n",
       "    .dataframe thead th {\n",
       "        text-align: right;\n",
       "    }\n",
       "</style>\n",
       "<table border=\"1\" class=\"dataframe\">\n",
       "  <thead>\n",
       "    <tr style=\"text-align: right;\">\n",
       "      <th></th>\n",
       "      <th>Ozone</th>\n",
       "      <th>Solar.R</th>\n",
       "      <th>Wind</th>\n",
       "      <th>Temp</th>\n",
       "      <th>Month</th>\n",
       "      <th>Day</th>\n",
       "    </tr>\n",
       "  </thead>\n",
       "  <tbody>\n",
       "    <tr>\n",
       "      <th>0</th>\n",
       "      <td>0.239521</td>\n",
       "      <td>0.559633</td>\n",
       "      <td>0.300000</td>\n",
       "      <td>0.268293</td>\n",
       "      <td>0.0</td>\n",
       "      <td>0.000000</td>\n",
       "    </tr>\n",
       "    <tr>\n",
       "      <th>1</th>\n",
       "      <td>0.209581</td>\n",
       "      <td>0.339450</td>\n",
       "      <td>0.331579</td>\n",
       "      <td>0.390244</td>\n",
       "      <td>0.0</td>\n",
       "      <td>0.033333</td>\n",
       "    </tr>\n",
       "    <tr>\n",
       "      <th>2</th>\n",
       "      <td>0.065868</td>\n",
       "      <td>0.434251</td>\n",
       "      <td>0.573684</td>\n",
       "      <td>0.439024</td>\n",
       "      <td>0.0</td>\n",
       "      <td>0.066667</td>\n",
       "    </tr>\n",
       "    <tr>\n",
       "      <th>3</th>\n",
       "      <td>0.101796</td>\n",
       "      <td>0.935780</td>\n",
       "      <td>0.515789</td>\n",
       "      <td>0.146341</td>\n",
       "      <td>0.0</td>\n",
       "      <td>0.100000</td>\n",
       "    </tr>\n",
       "    <tr>\n",
       "      <th>4</th>\n",
       "      <td>0.104790</td>\n",
       "      <td>0.608563</td>\n",
       "      <td>0.663158</td>\n",
       "      <td>0.000000</td>\n",
       "      <td>0.0</td>\n",
       "      <td>0.133333</td>\n",
       "    </tr>\n",
       "    <tr>\n",
       "      <th>...</th>\n",
       "      <td>...</td>\n",
       "      <td>...</td>\n",
       "      <td>...</td>\n",
       "      <td>...</td>\n",
       "      <td>...</td>\n",
       "      <td>...</td>\n",
       "    </tr>\n",
       "    <tr>\n",
       "      <th>148</th>\n",
       "      <td>0.173653</td>\n",
       "      <td>0.568807</td>\n",
       "      <td>0.273684</td>\n",
       "      <td>0.341463</td>\n",
       "      <td>1.0</td>\n",
       "      <td>0.833333</td>\n",
       "    </tr>\n",
       "    <tr>\n",
       "      <th>149</th>\n",
       "      <td>0.140719</td>\n",
       "      <td>0.422018</td>\n",
       "      <td>0.605263</td>\n",
       "      <td>0.512195</td>\n",
       "      <td>1.0</td>\n",
       "      <td>0.866667</td>\n",
       "    </tr>\n",
       "    <tr>\n",
       "      <th>150</th>\n",
       "      <td>0.077844</td>\n",
       "      <td>0.562691</td>\n",
       "      <td>0.663158</td>\n",
       "      <td>0.463415</td>\n",
       "      <td>1.0</td>\n",
       "      <td>0.900000</td>\n",
       "    </tr>\n",
       "    <tr>\n",
       "      <th>151</th>\n",
       "      <td>0.101796</td>\n",
       "      <td>0.379205</td>\n",
       "      <td>0.331579</td>\n",
       "      <td>0.487805</td>\n",
       "      <td>1.0</td>\n",
       "      <td>0.933333</td>\n",
       "    </tr>\n",
       "    <tr>\n",
       "      <th>152</th>\n",
       "      <td>0.113772</td>\n",
       "      <td>0.660550</td>\n",
       "      <td>0.515789</td>\n",
       "      <td>0.292683</td>\n",
       "      <td>1.0</td>\n",
       "      <td>0.966667</td>\n",
       "    </tr>\n",
       "  </tbody>\n",
       "</table>\n",
       "<p>153 rows × 6 columns</p>\n",
       "</div>"
      ],
      "text/plain": [
       "        Ozone   Solar.R      Wind      Temp  Month       Day\n",
       "0    0.239521  0.559633  0.300000  0.268293    0.0  0.000000\n",
       "1    0.209581  0.339450  0.331579  0.390244    0.0  0.033333\n",
       "2    0.065868  0.434251  0.573684  0.439024    0.0  0.066667\n",
       "3    0.101796  0.935780  0.515789  0.146341    0.0  0.100000\n",
       "4    0.104790  0.608563  0.663158  0.000000    0.0  0.133333\n",
       "..        ...       ...       ...       ...    ...       ...\n",
       "148  0.173653  0.568807  0.273684  0.341463    1.0  0.833333\n",
       "149  0.140719  0.422018  0.605263  0.512195    1.0  0.866667\n",
       "150  0.077844  0.562691  0.663158  0.463415    1.0  0.900000\n",
       "151  0.101796  0.379205  0.331579  0.487805    1.0  0.933333\n",
       "152  0.113772  0.660550  0.515789  0.292683    1.0  0.966667\n",
       "\n",
       "[153 rows x 6 columns]"
      ]
     },
     "execution_count": 13,
     "metadata": {},
     "output_type": "execute_result"
    }
   ],
   "source": [
    "from sklearn.preprocessing import MinMaxScaler\n",
    "scaler = MinMaxScaler()\n",
    "#By default, it scales for (0, 1) range\n",
    "data_scaler = pd.DataFrame(scaler.fit_transform(data_knnimpute))\n",
    "data_scaler.columns = data_knnimpute.columns\n",
    "data_scaler"
   ]
  },
  {
   "cell_type": "code",
   "execution_count": null,
   "metadata": {
    "collapsed": false,
    "jupyter": {
     "outputs_hidden": false
    },
    "pycharm": {
     "name": "#%%\n"
    }
   },
   "outputs": [],
   "source": []
  },
  {
   "attachments": {
    "4189d699-7320-4cd4-9cee-94436a4b25f6.png": {
     "image/png": "[encoded data removed]"
    }
   },
   "cell_type": "markdown",
   "metadata": {
    "pycharm": {
     "name": "#%% md\n"
    }
   },
   "source": [
    "#### 2.3.2.3 Using Box-Cox Transformation\n",
    "- A [Box Cox](https://rss.onlinelibrary.wiley.com/doi/10.1111/j.2517-6161.1964.tb00553.x) transformation is a transformation of a non-normal dependent variables into a normal shape.\n",
    "- Normality is an important assumption for many statistical techniques; if your data isn’t normal, applying a Box-Cox means that you are able to run a broader number of tests.\n",
    "- The Box Cox transformation is named after statisticians George Box and Sir David Roxbee Cox who collaborated on a 1964 paper and developed the technique.\n",
    "- BoxCox can only be applied to strictly positive values\n",
    "\n",
    "![image.png](attachment:4189d699-7320-4cd4-9cee-94436a4b25f6.png)"
   ]
  },
  {
   "cell_type": "code",
   "execution_count": 14,
   "metadata": {
    "collapsed": false,
    "jupyter": {
     "outputs_hidden": false
    },
    "pycharm": {
     "name": "#%%\n"
    }
   },
   "outputs": [],
   "source": [
    "from sklearn.preprocessing import power_transform\n",
    "data_BxCx = pd.DataFrame(power_transform(data_knnimpute,method=\"box-cox\"))\n",
    "data_BxCx.columns = data_knnimpute.columns"
   ]
  },
  {
   "cell_type": "code",
   "execution_count": 15,
   "metadata": {},
   "outputs": [
    {
     "data": {
      "text/html": [
       "<div>\n",
       "<style scoped>\n",
       "    .dataframe tbody tr th:only-of-type {\n",
       "        vertical-align: middle;\n",
       "    }\n",
       "\n",
       "    .dataframe tbody tr th {\n",
       "        vertical-align: top;\n",
       "    }\n",
       "\n",
       "    .dataframe thead th {\n",
       "        text-align: right;\n",
       "    }\n",
       "</style>\n",
       "<table border=\"1\" class=\"dataframe\">\n",
       "  <thead>\n",
       "    <tr style=\"text-align: right;\">\n",
       "      <th></th>\n",
       "      <th>Ozone</th>\n",
       "      <th>Solar.R</th>\n",
       "      <th>Wind</th>\n",
       "      <th>Temp</th>\n",
       "      <th>Month</th>\n",
       "      <th>Day</th>\n",
       "    </tr>\n",
       "  </thead>\n",
       "  <tbody>\n",
       "    <tr>\n",
       "      <th>0</th>\n",
       "      <td>0.301662</td>\n",
       "      <td>0.034559</td>\n",
       "      <td>-0.696409</td>\n",
       "      <td>-1.155384</td>\n",
       "      <td>-1.441568</td>\n",
       "      <td>-1.941339</td>\n",
       "    </tr>\n",
       "    <tr>\n",
       "      <th>1</th>\n",
       "      <td>0.133927</td>\n",
       "      <td>-0.776789</td>\n",
       "      <td>-0.513633</td>\n",
       "      <td>-0.682490</td>\n",
       "      <td>-1.441568</td>\n",
       "      <td>-1.733894</td>\n",
       "    </tr>\n",
       "    <tr>\n",
       "      <th>2</th>\n",
       "      <td>-1.133424</td>\n",
       "      <td>-0.429713</td>\n",
       "      <td>0.772939</td>\n",
       "      <td>-0.481905</td>\n",
       "      <td>-1.441568</td>\n",
       "      <td>-1.554515</td>\n",
       "    </tr>\n",
       "    <tr>\n",
       "      <th>3</th>\n",
       "      <td>-0.695278</td>\n",
       "      <td>1.453258</td>\n",
       "      <td>0.480592</td>\n",
       "      <td>-1.587927</td>\n",
       "      <td>-1.441568</td>\n",
       "      <td>-1.391232</td>\n",
       "    </tr>\n",
       "    <tr>\n",
       "      <th>4</th>\n",
       "      <td>-0.664472</td>\n",
       "      <td>0.217100</td>\n",
       "      <td>1.209918</td>\n",
       "      <td>-2.054572</td>\n",
       "      <td>-1.441568</td>\n",
       "      <td>-1.238962</td>\n",
       "    </tr>\n",
       "    <tr>\n",
       "      <th>...</th>\n",
       "      <td>...</td>\n",
       "      <td>...</td>\n",
       "      <td>...</td>\n",
       "      <td>...</td>\n",
       "      <td>...</td>\n",
       "      <td>...</td>\n",
       "    </tr>\n",
       "    <tr>\n",
       "      <th>148</th>\n",
       "      <td>-0.094552</td>\n",
       "      <td>0.068732</td>\n",
       "      <td>-0.852198</td>\n",
       "      <td>-0.876526</td>\n",
       "      <td>1.391890</td>\n",
       "      <td>1.107819</td>\n",
       "    </tr>\n",
       "    <tr>\n",
       "      <th>149</th>\n",
       "      <td>-0.339507</td>\n",
       "      <td>-0.474707</td>\n",
       "      <td>0.929106</td>\n",
       "      <td>-0.168676</td>\n",
       "      <td>1.391890</td>\n",
       "      <td>1.201106</td>\n",
       "    </tr>\n",
       "    <tr>\n",
       "      <th>150</th>\n",
       "      <td>-0.970695</td>\n",
       "      <td>0.045947</td>\n",
       "      <td>1.209918</td>\n",
       "      <td>-0.379147</td>\n",
       "      <td>1.391890</td>\n",
       "      <td>1.293445</td>\n",
       "    </tr>\n",
       "    <tr>\n",
       "      <th>151</th>\n",
       "      <td>-0.695278</td>\n",
       "      <td>-0.631712</td>\n",
       "      <td>-0.513633</td>\n",
       "      <td>-0.274738</td>\n",
       "      <td>1.391890</td>\n",
       "      <td>1.384877</td>\n",
       "    </tr>\n",
       "    <tr>\n",
       "      <th>152</th>\n",
       "      <td>-0.575962</td>\n",
       "      <td>0.411790</td>\n",
       "      <td>0.480592</td>\n",
       "      <td>-1.064052</td>\n",
       "      <td>1.391890</td>\n",
       "      <td>1.475444</td>\n",
       "    </tr>\n",
       "  </tbody>\n",
       "</table>\n",
       "<p>153 rows × 6 columns</p>\n",
       "</div>"
      ],
      "text/plain": [
       "        Ozone   Solar.R      Wind      Temp     Month       Day\n",
       "0    0.301662  0.034559 -0.696409 -1.155384 -1.441568 -1.941339\n",
       "1    0.133927 -0.776789 -0.513633 -0.682490 -1.441568 -1.733894\n",
       "2   -1.133424 -0.429713  0.772939 -0.481905 -1.441568 -1.554515\n",
       "3   -0.695278  1.453258  0.480592 -1.587927 -1.441568 -1.391232\n",
       "4   -0.664472  0.217100  1.209918 -2.054572 -1.441568 -1.238962\n",
       "..        ...       ...       ...       ...       ...       ...\n",
       "148 -0.094552  0.068732 -0.852198 -0.876526  1.391890  1.107819\n",
       "149 -0.339507 -0.474707  0.929106 -0.168676  1.391890  1.201106\n",
       "150 -0.970695  0.045947  1.209918 -0.379147  1.391890  1.293445\n",
       "151 -0.695278 -0.631712 -0.513633 -0.274738  1.391890  1.384877\n",
       "152 -0.575962  0.411790  0.480592 -1.064052  1.391890  1.475444\n",
       "\n",
       "[153 rows x 6 columns]"
      ]
     },
     "execution_count": 15,
     "metadata": {},
     "output_type": "execute_result"
    }
   ],
   "source": [
    "data_BxCx"
   ]
  },
  {
   "cell_type": "markdown",
   "metadata": {
    "pycharm": {
     "name": "#%% md\n"
    }
   },
   "source": [
    "#### 2.3.2.4 Using Yeo Johnson Transformation\n",
    "While BoxCox only works with positive value, a more recent transformation method [Yeo Johnson](https://www.jstor.org/stable/2673623) can transform both positive and negative values"
   ]
  },
  {
   "cell_type": "code",
   "execution_count": 16,
   "metadata": {
    "collapsed": false,
    "jupyter": {
     "outputs_hidden": false
    },
    "pycharm": {
     "name": "#%%\n"
    }
   },
   "outputs": [
    {
     "data": {
      "text/html": [
       "<div>\n",
       "<style scoped>\n",
       "    .dataframe tbody tr th:only-of-type {\n",
       "        vertical-align: middle;\n",
       "    }\n",
       "\n",
       "    .dataframe tbody tr th {\n",
       "        vertical-align: top;\n",
       "    }\n",
       "\n",
       "    .dataframe thead th {\n",
       "        text-align: right;\n",
       "    }\n",
       "</style>\n",
       "<table border=\"1\" class=\"dataframe\">\n",
       "  <thead>\n",
       "    <tr style=\"text-align: right;\">\n",
       "      <th></th>\n",
       "      <th>Ozone</th>\n",
       "      <th>Solar.R</th>\n",
       "      <th>Wind</th>\n",
       "      <th>Temp</th>\n",
       "      <th>Month</th>\n",
       "      <th>Day</th>\n",
       "    </tr>\n",
       "  </thead>\n",
       "  <tbody>\n",
       "    <tr>\n",
       "      <th>0</th>\n",
       "      <td>0.312382</td>\n",
       "      <td>0.032547</td>\n",
       "      <td>-0.697609</td>\n",
       "      <td>-1.155302</td>\n",
       "      <td>-1.437509</td>\n",
       "      <td>-1.892008</td>\n",
       "    </tr>\n",
       "    <tr>\n",
       "      <th>1</th>\n",
       "      <td>0.143850</td>\n",
       "      <td>-0.778833</td>\n",
       "      <td>-0.514183</td>\n",
       "      <td>-0.682500</td>\n",
       "      <td>-1.437509</td>\n",
       "      <td>-1.710395</td>\n",
       "    </tr>\n",
       "    <tr>\n",
       "      <th>2</th>\n",
       "      <td>-1.146647</td>\n",
       "      <td>-0.432089</td>\n",
       "      <td>0.774562</td>\n",
       "      <td>-0.481950</td>\n",
       "      <td>-1.437509</td>\n",
       "      <td>-1.544627</td>\n",
       "    </tr>\n",
       "    <tr>\n",
       "      <th>3</th>\n",
       "      <td>-0.698415</td>\n",
       "      <td>1.456436</td>\n",
       "      <td>0.482270</td>\n",
       "      <td>-1.587780</td>\n",
       "      <td>-1.437509</td>\n",
       "      <td>-1.389727</td>\n",
       "    </tr>\n",
       "    <tr>\n",
       "      <th>4</th>\n",
       "      <td>-0.666925</td>\n",
       "      <td>0.215443</td>\n",
       "      <td>1.210699</td>\n",
       "      <td>-2.054440</td>\n",
       "      <td>-1.437509</td>\n",
       "      <td>-1.242970</td>\n",
       "    </tr>\n",
       "    <tr>\n",
       "      <th>...</th>\n",
       "      <td>...</td>\n",
       "      <td>...</td>\n",
       "      <td>...</td>\n",
       "      <td>...</td>\n",
       "      <td>...</td>\n",
       "      <td>...</td>\n",
       "    </tr>\n",
       "    <tr>\n",
       "      <th>148</th>\n",
       "      <td>-0.086846</td>\n",
       "      <td>0.066778</td>\n",
       "      <td>-0.853953</td>\n",
       "      <td>-0.876499</td>\n",
       "      <td>1.395754</td>\n",
       "      <td>1.114792</td>\n",
       "    </tr>\n",
       "    <tr>\n",
       "      <th>149</th>\n",
       "      <td>-0.335471</td>\n",
       "      <td>-0.477072</td>\n",
       "      <td>0.930537</td>\n",
       "      <td>-0.168762</td>\n",
       "      <td>1.395754</td>\n",
       "      <td>1.210096</td>\n",
       "    </tr>\n",
       "    <tr>\n",
       "      <th>150</th>\n",
       "      <td>-0.980194</td>\n",
       "      <td>0.043954</td>\n",
       "      <td>1.210699</td>\n",
       "      <td>-0.379207</td>\n",
       "      <td>1.395754</td>\n",
       "      <td>1.304491</td>\n",
       "    </tr>\n",
       "    <tr>\n",
       "      <th>151</th>\n",
       "      <td>-0.698415</td>\n",
       "      <td>-0.633966</td>\n",
       "      <td>-0.514183</td>\n",
       "      <td>-0.274812</td>\n",
       "      <td>1.395754</td>\n",
       "      <td>1.398018</td>\n",
       "    </tr>\n",
       "    <tr>\n",
       "      <th>152</th>\n",
       "      <td>-0.576504</td>\n",
       "      <td>0.410627</td>\n",
       "      <td>0.482270</td>\n",
       "      <td>-1.063988</td>\n",
       "      <td>1.395754</td>\n",
       "      <td>1.490713</td>\n",
       "    </tr>\n",
       "  </tbody>\n",
       "</table>\n",
       "<p>153 rows × 6 columns</p>\n",
       "</div>"
      ],
      "text/plain": [
       "        Ozone   Solar.R      Wind      Temp     Month       Day\n",
       "0    0.312382  0.032547 -0.697609 -1.155302 -1.437509 -1.892008\n",
       "1    0.143850 -0.778833 -0.514183 -0.682500 -1.437509 -1.710395\n",
       "2   -1.146647 -0.432089  0.774562 -0.481950 -1.437509 -1.544627\n",
       "3   -0.698415  1.456436  0.482270 -1.587780 -1.437509 -1.389727\n",
       "4   -0.666925  0.215443  1.210699 -2.054440 -1.437509 -1.242970\n",
       "..        ...       ...       ...       ...       ...       ...\n",
       "148 -0.086846  0.066778 -0.853953 -0.876499  1.395754  1.114792\n",
       "149 -0.335471 -0.477072  0.930537 -0.168762  1.395754  1.210096\n",
       "150 -0.980194  0.043954  1.210699 -0.379207  1.395754  1.304491\n",
       "151 -0.698415 -0.633966 -0.514183 -0.274812  1.395754  1.398018\n",
       "152 -0.576504  0.410627  0.482270 -1.063988  1.395754  1.490713\n",
       "\n",
       "[153 rows x 6 columns]"
      ]
     },
     "execution_count": 16,
     "metadata": {},
     "output_type": "execute_result"
    }
   ],
   "source": [
    "data_yeo_johnson = pd.DataFrame(power_transform(data_knnimpute,method=\"yeo-johnson\"))\n",
    "data_yeo_johnson.columns = data_knnimpute.columns\n",
    "data_yeo_johnson"
   ]
  },
  {
   "cell_type": "markdown",
   "metadata": {},
   "source": [
    "We can visualize the histogram with **seaborn** package.\n",
    "\n",
    "Make sure that you install seaborn package in advance (Open the ML_SKLN Console (Not Notebook) and run this command:)\n",
    "\n",
    "**pip install seaborn**\n",
    "\n",
    "Once seaborn is installed, you can visualize the data:"
   ]
  },
  {
   "cell_type": "code",
   "execution_count": 17,
   "metadata": {},
   "outputs": [
    {
     "name": "stderr",
     "output_type": "stream",
     "text": [
      "/users/tuev/.conda/envs/ML_SKLN/lib/python3.6/site-packages/seaborn/distributions.py:2619: FutureWarning: `distplot` is a deprecated function and will be removed in a future version. Please adapt your code to use either `displot` (a figure-level function with similar flexibility) or `histplot` (an axes-level function for histograms).\n",
      "  warnings.warn(msg, FutureWarning)\n",
      "/users/tuev/.conda/envs/ML_SKLN/lib/python3.6/site-packages/seaborn/distributions.py:2619: FutureWarning: `distplot` is a deprecated function and will be removed in a future version. Please adapt your code to use either `displot` (a figure-level function with similar flexibility) or `histplot` (an axes-level function for histograms).\n",
      "  warnings.warn(msg, FutureWarning)\n"
     ]
    },
    {
     "data": {
      "text/plain": [
       "Text(0.5, 1.0, 'Box-Cox Transformation')"
      ]
     },
     "execution_count": 17,
     "metadata": {},
     "output_type": "execute_result"
    },
    {
     "data": {
      "image/png": "[encoded data removed]",
      "text/plain": [
       "<Figure size 432x288 with 2 Axes>"
      ]
     },
     "metadata": {},
     "output_type": "display_data"
    }
   ],
   "source": [
    "import seaborn as sns\n",
    "import matplotlib.pyplot as plt\n",
    "sns.set_style('darkgrid')\n",
    "\n",
    "ax1 = plt.subplot(1,2,1)\n",
    "sns.distplot(data_knnimpute[\"Ozone\"])\n",
    "ax1.set_title(\"Original probability\")\n",
    "\n",
    "ax2 = plt.subplot(1,2,2)\n",
    "sns.distplot(data_BxCx[\"Ozone\"])\n",
    "ax2.set_title(\"Box-Cox Transformation\")\n"
   ]
  },
  {
   "cell_type": "markdown",
   "metadata": {
    "pycharm": {
     "name": "#%% md\n"
    }
   },
   "source": [
    "# Data Partition with Scikit-Learn\n"
   ]
  },
  {
   "cell_type": "markdown",
   "metadata": {
    "pycharm": {
     "name": "#%% md\n"
    }
   },
   "source": [
    "## Data partition: training and testing\n",
    "\n",
    "![image](https://user-images.githubusercontent.com/43855029/120378647-b1716080-c2ec-11eb-8693-60defbbad7e2.png)\n",
    "\n",
    "\n",
    "- In Machine Learning, it is mandatory to have training and testing set. Some time a verification set is also recommended.\n",
    "Here are some functions for spliting training/testing set in `sklearn`:\n",
    "\n",
    "- `train_test_split`: create series of test/training partitions\n",
    "- `Kfold` splits the data into k groups\n",
    "- `StratifiedKFold` splits the data into k groups based on a grouping factor.\n",
    "- `RepeatKfold`, `ShuffleSplit`, `LeaveOneOut`, `LeavePOut`\n",
    "\n",
    "Due to time constraints, we will only focus on `train_test_split` and  `KFolds`"
   ]
  },
  {
   "cell_type": "markdown",
   "metadata": {
    "pycharm": {
     "name": "#%% md\n"
    }
   },
   "source": [
    "## 3.1 Scikit-Learn data\n",
    "\n",
    "The `sklearn.datasets` package embeds some small sample datasets or toy [datasets](https://scikit-learn.org/stable/datasets.html)\n",
    "\n",
    "In this workshop, we are going to use some toy datasets but in real life, we can import any csv or table dataset:\n",
    "\n",
    "```\n",
    "For each toy dataset, there are 4 varibles:\n",
    "- **data**: numpy array of predictors/X\n",
    "- **target**: numpy array of predictant/target/y\n",
    "- **feature_names**: names of all predictors in X\n",
    "- **target_names**: names of all predictand in y\n",
    "```\n",
    "\n",
    "For example, we will load the California housing dataset:"
   ]
  },
  {
   "cell_type": "code",
   "execution_count": 18,
   "metadata": {
    "collapsed": false,
    "jupyter": {
     "outputs_hidden": false
    },
    "pycharm": {
     "name": "#%%\n"
    }
   },
   "outputs": [
    {
     "name": "stdout",
     "output_type": "stream",
     "text": [
      "[[   8.3252       41.            6.98412698 ...    2.55555556\n",
      "    37.88       -122.23      ]\n",
      " [   8.3014       21.            6.23813708 ...    2.10984183\n",
      "    37.86       -122.22      ]\n",
      " [   7.2574       52.            8.28813559 ...    2.80225989\n",
      "    37.85       -122.24      ]\n",
      " ...\n",
      " [   1.7          17.            5.20554273 ...    2.3256351\n",
      "    39.43       -121.22      ]\n",
      " [   1.8672       18.            5.32951289 ...    2.12320917\n",
      "    39.43       -121.32      ]\n",
      " [   2.3886       16.            5.25471698 ...    2.61698113\n",
      "    39.37       -121.24      ]]\n",
      "[4.526 3.585 3.521 ... 0.923 0.847 0.894]\n",
      "['MedInc', 'HouseAge', 'AveRooms', 'AveBedrms', 'Population', 'AveOccup', 'Latitude', 'Longitude']\n",
      "['MedHouseVal']\n"
     ]
    }
   ],
   "source": [
    "from sklearn.datasets import fetch_california_housing\n",
    "data = fetch_california_housing()\n",
    "print(data.data)\n",
    "print(data.target)\n",
    "print(data.feature_names)\n",
    "print(data.target_names)"
   ]
  },
  {
   "cell_type": "markdown",
   "metadata": {
    "pycharm": {
     "name": "#%% md\n"
    }
   },
   "source": [
    "Now we can assign the variables for input and output data:"
   ]
  },
  {
   "cell_type": "code",
   "execution_count": 19,
   "metadata": {
    "collapsed": false,
    "jupyter": {
     "outputs_hidden": false
    },
    "pycharm": {
     "name": "#%%\n"
    }
   },
   "outputs": [],
   "source": [
    "X = data.data\n",
    "y = data.target"
   ]
  },
  {
   "cell_type": "markdown",
   "metadata": {
    "pycharm": {
     "name": "#%% md\n"
    }
   },
   "source": [
    "## 3.2 Data spliting using train_test_split: **Single fold**\n",
    "Here we use `train_test_split` to randomly split 60% data for training and the rest for testing:\n",
    "    ![image](https://user-images.githubusercontent.com/43855029/114209883-22b81700-992d-11eb-83a4-c4ab1538a1e5.png)\n"
   ]
  },
  {
   "cell_type": "code",
   "execution_count": 20,
   "metadata": {
    "collapsed": false,
    "jupyter": {
     "outputs_hidden": false
    },
    "pycharm": {
     "name": "#%%\n"
    }
   },
   "outputs": [],
   "source": [
    "from sklearn.model_selection import train_test_split\n",
    "X_train, X_test, y_train, y_test = train_test_split(X,y,train_size=0.6,random_state=123)\n",
    "#random_state: int, similar to R set_seed function"
   ]
  },
  {
   "cell_type": "markdown",
   "metadata": {
    "pycharm": {
     "name": "#%% md\n"
    }
   },
   "source": [
    "## 3.3 Data spliting using `K-fold`\n",
    "- This is the Cross-validation approach.\n",
    "- This is a resampling process used to evaluate ML model on limited data sample.\n",
    "- The general procedure:\n",
    "- Shuffle data randomly\n",
    "- Split the data into **k** groups\n",
    "For each group:\n",
    "- Split into training & testing set\n",
    "- Fit a model on each group's training & testing set\n",
    "- Retain the evaluation score and summarize the skill of model\n",
    "\n",
    "\n",
    "\n",
    "![image](https://user-images.githubusercontent.com/43855029/114211785-103edd00-992f-11eb-89d0-bbd7bd0c0178.png)"
   ]
  },
  {
   "cell_type": "markdown",
   "metadata": {
    "jupyter": {
     "outputs_hidden": false
    },
    "pycharm": {
     "name": "#%%\n"
    }
   },
   "source": [
    "```python\n",
    "from sklearn.model_selection import KFold\n",
    "kf10 = KFold(n_splits=10,shuffle=True,random_state=20)\n",
    "for train_index, test_index in kf10.split(data.target):\n",
    "    X_train = X[train_index]\n",
    "    y_train = y[train_index]\n",
    "    X_test = X[test_index]\n",
    "    y_test = y[test_index]\n",
    "\n",
    "    model.fit(X_train, y_train) #Training the model, not running now\n",
    "    y_pred = model.predict(X_test)\n",
    "    print(f\"Accuracy for the fold no. {i} on the test set: {accuracy_score(y_test, y_pred)}\")\n",
    "```    "
   ]
  },
  {
   "cell_type": "markdown",
   "metadata": {
    "pycharm": {
     "name": "#%% md\n"
    }
   },
   "source": [
    "# Evaluation Metrics with Scikit-Learn"
   ]
  },
  {
   "cell_type": "markdown",
   "metadata": {
    "pycharm": {
     "name": "#%% md\n"
    }
   },
   "source": [
    "# 4 Evaluation Metrics\n",
    "\n",
    "- Evaluation Metric is an essential part in any Machine Learning project.\n",
    "- It measures how good or bad is your Machine Learning model\n",
    "- Different Evaluation Metrics are used for Regression model (Continuous output) or Classification model (Categorical output).\n"
   ]
  },
  {
   "cell_type": "markdown",
   "metadata": {
    "pycharm": {
     "name": "#%% md\n"
    }
   },
   "source": [
    "## 4.1 Regression model Evaluation Metrics\n",
    "\n",
    "### 4.1.1 Correlation Coefficient (R) or Coefficient of Determination (R2):\n",
    "\n",
    "![image](https://user-images.githubusercontent.com/43855029/120700259-72274900-c47f-11eb-8959-a4bbe4eafccc.png)\n"
   ]
  },
  {
   "cell_type": "markdown",
   "metadata": {
    "jupyter": {
     "outputs_hidden": false
    },
    "pycharm": {
     "name": "#%%\n"
    }
   },
   "source": [
    "```python\n",
    "from sklearn import metrics\n",
    "metrics.r2_score(y_test,y_pred)\n",
    "```"
   ]
  },
  {
   "cell_type": "markdown",
   "metadata": {
    "jupyter": {
     "outputs_hidden": false
    },
    "pycharm": {
     "name": "#%%\n"
    }
   },
   "source": [
    "### 4.1.2 Root Mean Square Error (RMSE) or Mean Square Error (MSE)\n",
    "\n",
    "![image](https://user-images.githubusercontent.com/43855029/120700533-c5010080-c47f-11eb-8050-b1cd8c63746e.png)\n"
   ]
  },
  {
   "cell_type": "markdown",
   "metadata": {
    "jupyter": {
     "outputs_hidden": false
    },
    "pycharm": {
     "name": "#%%\n"
    }
   },
   "source": [
    "```python\n",
    "from sklearn import metrics\n",
    "metrics.mean_squared_error(y_test,y_pred,squared=False) # RMSE\n",
    "metrics.mean_squared_error(y_test,y_pred,squared=True) # MSE\n",
    "```"
   ]
  },
  {
   "cell_type": "markdown",
   "metadata": {
    "pycharm": {
     "name": "#%% md\n"
    }
   },
   "source": [
    "## 4.2. Classification Model Evaluation Metrics\n",
    "\n",
    "### 4.2.1 Confusion Matrix\n",
    "- A confusion matrix is a technique for summarizing the performance of a classification algorithm.\n",
    "- You can learn more about Confusion Matrix [here](https://www.analyticsvidhya.com/blog/2020/04/confusion-matrix-machine-learning/)\n",
    "\n",
    "For binary output (classification problem with only 2 output type, also most popular):\n",
    "\n",
    "![image](https://user-images.githubusercontent.com/43855029/120687356-efe35880-c46f-11eb-950f-5feef237a4c1.png)\n",
    "\n",
    "### 4.2.2 Accuracy\n",
    "\n",
    "The most common metric for classification is accuracy, which is the fraction of samples predicted correctly as shown below:\n",
    "\n",
    "![image](https://user-images.githubusercontent.com/43855029/120700619-dea24800-c47f-11eb-81c4-df090cad93da.png)\n"
   ]
  },
  {
   "cell_type": "markdown",
   "metadata": {
    "jupyter": {
     "outputs_hidden": false
    },
    "pycharm": {
     "name": "#%%\n"
    }
   },
   "source": [
    "```python\n",
    "from sklearn import metrics\n",
    "metrics.accuracy_score(y_test,y_pred)\n",
    "```"
   ]
  },
  {
   "cell_type": "markdown",
   "metadata": {
    "pycharm": {
     "name": "#%% md\n"
    }
   },
   "source": [
    "## 4.2.3 Precision\n",
    "\n",
    "Precision is the fraction of predicted positives events that are actually positive as shown below:\n",
    "\n",
    "![image](https://user-images.githubusercontent.com/43855029/120700808-1c9f6c00-c480-11eb-9ec8-597d02a76a94.png)\n",
    "\n",
    "### 4.2.4 Recall\n",
    "\n",
    "Recall (also known as sensitivity) is the fraction of positives events that you predicted correctly as shown below:\n",
    "\n",
    "![image](https://user-images.githubusercontent.com/43855029/120700754-07c2d880-c480-11eb-81e1-7c7926452346.png)\n",
    "\n",
    "\n",
    "### 4.2.5 F1 score\n",
    "\n",
    "The f1 score is the harmonic mean of recall and precision, with a higher score as a better model. The f1 score is calculated using the following formula:\n",
    "\n",
    "![image](https://user-images.githubusercontent.com/43855029/120701061-6ee08d00-c480-11eb-9ab1-71d905e6a491.png)\n",
    "\n",
    "More information on Precision, Recall and F1 score can be found [here](https://scikit-learn.org/stable/modules/generated/sklearn.metrics.precision_recall_fscore_support.html)\n"
   ]
  },
  {
   "cell_type": "markdown",
   "metadata": {
    "jupyter": {
     "outputs_hidden": false
    },
    "pycharm": {
     "name": "#%%\n"
    }
   },
   "source": [
    "```python\n",
    "metrics.precision_recall_fscore_support(y_test,y_pred,average='binary')\n",
    "```"
   ]
  },
  {
   "cell_type": "code",
   "execution_count": null,
   "metadata": {
    "collapsed": false,
    "jupyter": {
     "outputs_hidden": false
    },
    "pycharm": {
     "name": "#%%\n"
    }
   },
   "outputs": [],
   "source": []
  },
  {
   "cell_type": "markdown",
   "metadata": {
    "pycharm": {
     "name": "#%% md\n"
    }
   },
   "source": [
    "### 4.2.6 AUC-ROC curve\n",
    "- ROC: Receiver Operating Characteristics:  probability curve\n",
    "- AUC: Area Under The Curve: represents the degree or measure of separability.\n",
    "\n",
    "![image](https://user-images.githubusercontent.com/43855029/120698991-ccbfa580-c47d-11eb-9f11-6e2acb00d46d.png)\n",
    "\n",
    "- AUC = 1:   perfect prediction\n",
    "- AUC = 0.8: model has 80% chance to predict the right class\n",
    "    - AUC = 0.5: worst case, model has **NO** accuracy in prediction (random)\n",
    "- AUC = 0:   the model is actually reciprocating the classes\n",
    "\n",
    "![image](https://user-images.githubusercontent.com/43855029/120699552-84ed4e00-c47e-11eb-8089-54158439ad6f.png)\n",
    "\n",
    "ROC Interpretation\n",
    "\n",
    "![image](https://user-images.githubusercontent.com/43855029/133898061-2c7f5da6-c41b-41af-8a81-b65fef3c3184.png)\n",
    "\n",
    "Code to calculate FPR, TPR:\n"
   ]
  },
  {
   "cell_type": "markdown",
   "metadata": {
    "jupyter": {
     "outputs_hidden": false
    },
    "pycharm": {
     "name": "#%%\n"
    }
   },
   "source": [
    "```python\n",
    "from sklearn.metrics import roc_curve\n",
    "fpr, tpr, thresholds = roc_curve(y_test,y_pred)\n",
    "```"
   ]
  },
  {
   "cell_type": "markdown",
   "metadata": {
    "pycharm": {
     "name": "#%% md\n"
    }
   },
   "source": [
    "Code to calculate AUC score:"
   ]
  },
  {
   "cell_type": "markdown",
   "metadata": {
    "jupyter": {
     "outputs_hidden": false
    },
    "pycharm": {
     "name": "#%%\n"
    }
   },
   "source": [
    "```python\n",
    "from sklearn.metrics import roc_auc_score\n",
    "auc_score = roc_auc_score(y_test,y_pred)\n",
    "```"
   ]
  },
  {
   "cell_type": "markdown",
   "metadata": {
    "pycharm": {
     "name": "#%% md\n"
    }
   },
   "source": [
    "We will go into detail how to plot AUC-ROC curve in the next chapters with a classification problem"
   ]
  },
  {
   "cell_type": "markdown",
   "metadata": {
    "pycharm": {
     "name": "#%% md\n"
    }
   },
   "source": [
    "# 5. Supervised Learning with continuous output\n",
    "For this session, we will use several Machine Learning algorithm  to work with continuous output the supervised learning problem.\n",
    "First of all, let's import the data:"
   ]
  },
  {
   "cell_type": "markdown",
   "metadata": {
    "pycharm": {
     "name": "#%% md\n"
    }
   },
   "source": [
    "## 5.1 Preprocessing\n",
    "\n",
    "\n",
    "### 5.1.1 Import data\n",
    "\n",
    "\n",
    "Let use the **california housing** data in previous episodes:\n"
   ]
  },
  {
   "cell_type": "code",
   "execution_count": 23,
   "metadata": {
    "collapsed": false,
    "jupyter": {
     "outputs_hidden": false
    },
    "pycharm": {
     "name": "#%%\n"
    }
   },
   "outputs": [
    {
     "name": "stdout",
     "output_type": "stream",
     "text": [
      "   MedInc  HouseAge  AveRooms  AveBedrms  Population  AveOccup  Latitude  \\\n",
      "0  8.3252      41.0  6.984127   1.023810       322.0  2.555556     37.88   \n",
      "1  8.3014      21.0  6.238137   0.971880      2401.0  2.109842     37.86   \n",
      "2  7.2574      52.0  8.288136   1.073446       496.0  2.802260     37.85   \n",
      "3  5.6431      52.0  5.817352   1.073059       558.0  2.547945     37.85   \n",
      "4  3.8462      52.0  6.281853   1.081081       565.0  2.181467     37.85   \n",
      "\n",
      "   Longitude  \n",
      "0    -122.23  \n",
      "1    -122.22  \n",
      "2    -122.24  \n",
      "3    -122.25  \n",
      "4    -122.25  \n",
      "   MedHouseVal\n",
      "0        4.526\n",
      "1        3.585\n",
      "2        3.521\n",
      "3        3.413\n",
      "4        3.422\n"
     ]
    }
   ],
   "source": [
    "import pandas as pd\n",
    "import numpy as np\n",
    "\n",
    "from sklearn.datasets import fetch_california_housing\n",
    "\n",
    "data = fetch_california_housing()\n",
    "\n",
    "# Predictors/Input:\n",
    "X = pd.DataFrame(data.data,columns=data.feature_names)\n",
    "\n",
    "# Predictand/output:\n",
    "y = pd.DataFrame(data.target,columns=data.target_names)\n",
    "\n",
    "print(X.head())\n",
    "print(y.head())"
   ]
  },
  {
   "cell_type": "markdown",
   "metadata": {
    "pycharm": {
     "name": "#%% md\n"
    }
   },
   "source": [
    "### 5.1.2 Check missing data"
   ]
  },
  {
   "cell_type": "code",
   "execution_count": 24,
   "metadata": {
    "collapsed": false,
    "jupyter": {
     "outputs_hidden": false
    },
    "pycharm": {
     "name": "#%%\n"
    }
   },
   "outputs": [
    {
     "name": "stdout",
     "output_type": "stream",
     "text": [
      "MedInc        0\n",
      "HouseAge      0\n",
      "AveRooms      0\n",
      "AveBedrms     0\n",
      "Population    0\n",
      "AveOccup      0\n",
      "Latitude      0\n",
      "Longitude     0\n",
      "dtype: int64\n",
      "MedHouseVal    0\n",
      "dtype: int64\n"
     ]
    }
   ],
   "source": [
    "print(X.isnull().sum())\n",
    "print(y.isnull().sum())"
   ]
  },
  {
   "cell_type": "markdown",
   "metadata": {
    "pycharm": {
     "name": "#%% md\n"
    }
   },
   "source": [
    "Since there is no missing data, we move on to the next step:"
   ]
  },
  {
   "cell_type": "markdown",
   "metadata": {
    "pycharm": {
     "name": "#%% md\n"
    }
   },
   "source": [
    "### 5.1.3 Split model into training & testing set with 60% for training:"
   ]
  },
  {
   "cell_type": "code",
   "execution_count": 25,
   "metadata": {
    "collapsed": false,
    "jupyter": {
     "outputs_hidden": false
    },
    "pycharm": {
     "name": "#%%\n"
    }
   },
   "outputs": [],
   "source": [
    "from sklearn.model_selection import train_test_split\n",
    "X_train, X_test, y_train, y_test = train_test_split(X,y,train_size=0.6,random_state=123)"
   ]
  },
  {
   "cell_type": "markdown",
   "metadata": {
    "pycharm": {
     "name": "#%% md\n"
    }
   },
   "source": [
    "### 5.1.4 Visualization the inputs and output:\n",
    "\n",
    "We can visualize the inputs and output data using pair plotting with seaborn package.\n",
    "\n",
    "Make sure that you install seaborn package in advance (Open the ML_SKLN Console (Not Notebook) and run this command:)\n",
    "\n",
    " `pip install seaborn`\n",
    "\n",
    "\n",
    "Once seaborn is installed, you can plot visualize the input/output data:\n"
   ]
  },
  {
   "cell_type": "code",
   "execution_count": null,
   "metadata": {
    "collapsed": false,
    "jupyter": {
     "outputs_hidden": false
    },
    "pycharm": {
     "name": "#%%\n"
    }
   },
   "outputs": [],
   "source": [
    "import seaborn as sns\n",
    "df = pd.concat([X_train,y_train], axis=1)\n",
    "sns.pairplot(df)"
   ]
  },
  {
   "cell_type": "markdown",
   "metadata": {
    "pycharm": {
     "name": "#%% md\n"
    }
   },
   "source": [
    "![image](https://user-images.githubusercontent.com/43855029/154369953-8fcbc740-9d98-41b8-9c68-1f91149d59b2.png)\n",
    "\n",
    "Now the input data is ready for supervised learning model, let's select several ML algorithms to work with:\n"
   ]
  },
  {
   "cell_type": "markdown",
   "metadata": {
    "pycharm": {
     "name": "#%% md\n"
    }
   },
   "source": [
    "## 5.2 Machine Learning algorithm with Linear Regression\n"
   ]
  },
  {
   "cell_type": "markdown",
   "metadata": {
    "pycharm": {
     "name": "#%% md\n"
    }
   },
   "source": [
    "### 5.2.1 Train model using Linear Regression with 1 predictor (for example Medium Income)\n",
    "\n",
    "#### Fit a Linear model using LinearRegression model:"
   ]
  },
  {
   "cell_type": "code",
   "execution_count": 26,
   "metadata": {
    "collapsed": false,
    "jupyter": {
     "outputs_hidden": false
    },
    "pycharm": {
     "name": "#%%\n"
    }
   },
   "outputs": [],
   "source": [
    "from sklearn.linear_model import LinearRegression\n",
    "model_linreg1 = LinearRegression().fit(pd.DataFrame(X_train['MedInc']),y_train)"
   ]
  },
  {
   "cell_type": "markdown",
   "metadata": {
    "pycharm": {
     "name": "#%% md\n"
    }
   },
   "source": [
    "##### Apply trained model to testing data set and evaluate output using R-squared:"
   ]
  },
  {
   "cell_type": "code",
   "execution_count": 27,
   "metadata": {
    "collapsed": false,
    "jupyter": {
     "outputs_hidden": false
    },
    "pycharm": {
     "name": "#%%\n"
    }
   },
   "outputs": [
    {
     "name": "stdout",
     "output_type": "stream",
     "text": [
      "R2 is: 0.48\n",
      "RMSE is: 0.84\n"
     ]
    }
   ],
   "source": [
    "from sklearn import metrics\n",
    "y_pred = model_linreg1.predict(pd.DataFrame(X_test['MedInc']))\n",
    "print(\"R2 is: %1.2f\" % metrics.r2_score(y_test,y_pred))\n",
    "print(\"RMSE is: %1.2f\" % metrics.mean_squared_error(y_test,y_pred,squared=False))"
   ]
  },
  {
   "cell_type": "markdown",
   "metadata": {
    "pycharm": {
     "name": "#%% md\n"
    }
   },
   "source": [
    "We see that using 1 predictor/input, we obtain the output with corresponding R2 of 0.48 and RMSE = 0.84, which is not good enough. (The good R2 should be more than 0.7)\n",
    "Therefore, we change the approach, still using Linear Regression but with more inputs:\n"
   ]
  },
  {
   "cell_type": "markdown",
   "metadata": {
    "pycharm": {
     "name": "#%% md\n"
    }
   },
   "source": [
    "### 5.2.2 Train model using Multi-Linear Regression (with 2 or more predictors)\n",
    "In this section, we will build the model with 4 inputs [\"MedInc\",\"HouseAge\",\"AveRooms\",\"Population\"]\n",
    "\n",
    "#### Fit the training set and predict using test set\n"
   ]
  },
  {
   "cell_type": "code",
   "execution_count": 28,
   "metadata": {
    "collapsed": false,
    "jupyter": {
     "outputs_hidden": false
    },
    "pycharm": {
     "name": "#%%\n"
    }
   },
   "outputs": [
    {
     "name": "stdout",
     "output_type": "stream",
     "text": [
      "R2 is: 0.52\n",
      "RMSE is: 0.80\n"
     ]
    }
   ],
   "source": [
    "model_linreg = LinearRegression().fit(X_train[[\"MedInc\",\"HouseAge\",\"AveRooms\",\"Population\"]],y_train)\n",
    "y_pred2 = model_linreg.predict(X_test[[\"MedInc\",\"HouseAge\",\"AveRooms\",\"Population\"]])\n",
    "\n",
    "print(\"R2 is: %1.2f\" % metrics.r2_score(y_test,y_pred2))\n",
    "print(\"RMSE is: %1.2f\"  % metrics.mean_squared_error(y_test,y_pred2,squared=False))"
   ]
  },
  {
   "cell_type": "markdown",
   "metadata": {
    "pycharm": {
     "name": "#%% md\n"
    }
   },
   "source": [
    "Output is therefore better with smaller RMSE and higher R-squared:\n",
    "\n",
    "```\n",
    "R2 is: 0.52\n",
    "RMSE is: 0.80\n",
    "```\n",
    "\n",
    "Still the model outcome is not good enough, so we try another algorithm:"
   ]
  },
  {
   "cell_type": "markdown",
   "metadata": {
    "pycharm": {
     "name": "#%% md\n"
    }
   },
   "source": [
    "### 5.2.3 Train model using Polynomial Regression\n",
    "\n",
    "We can slightly improve this by using Polynomial Regression\n",
    "![image](https://user-images.githubusercontent.com/43855029/115059030-f7e13c00-9eb3-11eb-9887-52461d7a87aa.png)\n",
    "\n",
    "#### Preprocessing: polynomial regression with `degree of freedom=2`\n",
    "the degree-2 polynomial features for 2 inputs (a & b) are [1, a, b, a^2, ab, b^2]."
   ]
  },
  {
   "cell_type": "code",
   "execution_count": 29,
   "metadata": {
    "collapsed": false,
    "jupyter": {
     "outputs_hidden": false
    },
    "pycharm": {
     "name": "#%%\n"
    }
   },
   "outputs": [
    {
     "name": "stdout",
     "output_type": "stream",
     "text": [
      "(20640, 15)\n"
     ]
    }
   ],
   "source": [
    "from sklearn.preprocessing import PolynomialFeatures\n",
    "poly = PolynomialFeatures(degree=2)\n",
    "X_poly = poly.fit_transform(X[[\"MedInc\",\"HouseAge\",\"AveRooms\",\"Population\"]])\n",
    "\n",
    "X_train, X_test, y_train, y_test = train_test_split(pd.DataFrame(X_poly),y, train_size=0.6,random_state=123)\n",
    "\n",
    "print(X_poly.shape)"
   ]
  },
  {
   "cell_type": "markdown",
   "metadata": {
    "pycharm": {
     "name": "#%% md\n"
    }
   },
   "source": [
    "We see that using 4 inputs data, with Polynomial regression, we have 15 input variables [1\ta\tb\tc\td\ta2\tab\tac\tad\tb2\tbc\tbd\tc2\tcd\td2]\n",
    "\n",
    "#### Fit the new dataset and predict output:"
   ]
  },
  {
   "cell_type": "code",
   "execution_count": 30,
   "metadata": {
    "collapsed": false,
    "jupyter": {
     "outputs_hidden": false
    },
    "pycharm": {
     "name": "#%%\n"
    }
   },
   "outputs": [
    {
     "name": "stdout",
     "output_type": "stream",
     "text": [
      "R2 is: 0.55 \n",
      "RMSE is: 0.78\n"
     ]
    }
   ],
   "source": [
    "model_linreg_poly = LinearRegression().fit(X_train,y_train)\n",
    "y_pred_poly = model_linreg_poly.predict(X_test)\n",
    "\n",
    "print(\"R2 is: %1.2f \" % metrics.r2_score(y_test,y_pred_poly))\n",
    "print(\"RMSE is: %1.2f\" % metrics.mean_squared_error(y_test,y_pred_poly,squared=False))"
   ]
  },
  {
   "cell_type": "markdown",
   "metadata": {
    "pycharm": {
     "name": "#%% md\n"
    }
   },
   "source": [
    "The output is even better with R2 for testing data is 0.55 and lower RMSE.\n",
    "\n",
    "The **R2=0.55** shows improvement using polynomial regression!\n",
    "\n",
    "How about using more degrees of freedom?"
   ]
  },
  {
   "cell_type": "markdown",
   "metadata": {
    "pycharm": {
     "name": "#%% md\n"
    }
   },
   "source": [
    "#### Polynomial regression with `degree of freedom = 4`\n",
    "\n",
    "Can we improve the result with more degree of freedome? Let's try using df=4:\n"
   ]
  },
  {
   "cell_type": "code",
   "execution_count": 31,
   "metadata": {
    "collapsed": false,
    "jupyter": {
     "outputs_hidden": false
    },
    "pycharm": {
     "name": "#%%\n"
    }
   },
   "outputs": [
    {
     "name": "stdout",
     "output_type": "stream",
     "text": [
      "R2 for 4 dof is: -4.34 \n",
      "RMSE for 4 dof is: 2.69\n"
     ]
    }
   ],
   "source": [
    "from sklearn.preprocessing import PolynomialFeatures\n",
    "poly = PolynomialFeatures(degree=4)\n",
    "X_poly = poly.fit_transform(X[[\"MedInc\",\"HouseAge\",\"AveRooms\",\"Population\"]])\n",
    "\n",
    "X_train4, X_test4, y_train4, y_test4 = train_test_split(pd.DataFrame(X_poly),y, train_size=0.6,random_state=123)\n",
    "\n",
    "model_linreg_poly4 = LinearRegression().fit(X_train4,y_train4)\n",
    "y_pred_poly4 = model_linreg_poly4.predict(X_test4)\n",
    "\n",
    "print(\"R2 for 4 dof is: %1.2f \" % metrics.r2_score(y_test4,y_pred_poly4))\n",
    "print(\"RMSE for 4 dof is: %1.2f\" % metrics.mean_squared_error(y_test4,y_pred_poly4,squared=False))\n"
   ]
  },
  {
   "cell_type": "markdown",
   "metadata": {
    "pycharm": {
     "name": "#%% md\n"
    }
   },
   "source": [
    "The R2 in sklearn can be negative, it arbitrarily means that the model is worse. More info on sklearn [r2_score](https://scikit-learn.org/stable/modules/generated/sklearn.metrics.r2_score.html).\n",
    "\n",
    "Why increasing the degree of freedom, my results getting worst?\n",
    "It's called OVERFITTING"
   ]
  },
  {
   "cell_type": "markdown",
   "metadata": {
    "pycharm": {
     "name": "#%% md\n"
    }
   },
   "source": [
    "## 5.3 Overfitting\n",
    "\n",
    "Overfitting occurs when we used lots of unesscessary input data for training process. It fits the training data so well that it is worse when applied to testing data:\n",
    "\n",
    "![image](https://user-images.githubusercontent.com/43855029/153645935-b9eeebe5-424a-490a-aa95-006088a66b21.png)\n",
    "\n",
    "Exercise 1: Let use all dataset to train the data to see if using all input data, we have overfitting?\n"
   ]
  },
  {
   "cell_type": "code",
   "execution_count": null,
   "metadata": {
    "collapsed": false,
    "jupyter": {
     "outputs_hidden": false
    },
    "pycharm": {
     "name": "#%%\n"
    }
   },
   "outputs": [],
   "source": []
  },
  {
   "cell_type": "markdown",
   "metadata": {
    "pycharm": {
     "name": "#%% md\n"
    }
   },
   "source": [
    "Exercise 2: Let's check the R2 and RMSE for training set using 2 and 4 degree of freedom to see if the 4 dof is better than 2 dof in fitting back to training data?"
   ]
  },
  {
   "cell_type": "markdown",
   "metadata": {
    "pycharm": {
     "name": "#%% md\n"
    }
   },
   "source": [
    "## 5.4 Other Supervised ML algorithm for continuous data\n",
    "\n",
    "There are many other ML algorithm that helps to overcome the issue of overfitting, for example:\n"
   ]
  },
  {
   "cell_type": "markdown",
   "metadata": {
    "pycharm": {
     "name": "#%% md\n"
    }
   },
   "source": [
    "### 5.4.1 Decision Tree\n",
    "\n",
    "- Tree based learning algorithms are considered to be one of the best and mostly used supervised learning methods.\n",
    "- Tree based methods empower predictive models with high accuracy, stability and ease of interpretation\n",
    "- Non-parametric and non-linear relationships\n",
    "- Types: Continuous (DecisionTreeRegressor) and Categorical (DecisionTreeClassifier)\n",
    "\n",
    "![image](https://user-images.githubusercontent.com/43855029/153648313-da3a9a08-c4ad-48c9-bebd-df34f1651f98.png)\n",
    "\n",
    "Let use all data in this exercise, the Decision Tree algorithm for continuous output in sklearn is called **DecisionTreeRegressor**\n"
   ]
  },
  {
   "cell_type": "code",
   "execution_count": 32,
   "metadata": {
    "collapsed": false,
    "jupyter": {
     "outputs_hidden": false
    },
    "pycharm": {
     "name": "#%%\n"
    }
   },
   "outputs": [
    {
     "name": "stdout",
     "output_type": "stream",
     "text": [
      "R2 using Decision Tree is: 0.58 \n",
      "RMSE using Decision Tree is: 0.76\n"
     ]
    }
   ],
   "source": [
    "X_train, X_test, y_train, y_test = train_test_split(X,y,train_size=0.6,random_state=123)\n",
    "\n",
    "from sklearn.tree import DecisionTreeRegressor\n",
    "model_DT = DecisionTreeRegressor(max_depth=4).fit(X_train,y_train)\n",
    "y_pred_DT = model_DT.predict(X_test)\n",
    "\n",
    "print(\"R2 using Decision Tree is: %1.2f \" % metrics.r2_score(y_test,y_pred_DT))\n",
    "print(\"RMSE using Decision Tree is: %1.2f\" % metrics.mean_squared_error(y_test,y_pred_DT,squared=False))"
   ]
  },
  {
   "cell_type": "markdown",
   "metadata": {
    "pycharm": {
     "name": "#%% md\n"
    }
   },
   "source": [
    "Now we can see that Decision Tree helps to overcome the overfitting by trimming down the unnecessary input data."
   ]
  },
  {
   "cell_type": "markdown",
   "metadata": {
    "jupyter": {
     "outputs_hidden": false
    },
    "pycharm": {
     "name": "#%%\n"
    }
   },
   "source": [
    "#### Visualization the Decision Tree:\n",
    "\n",
    "The following required graphviz model to be loaded when you requested for a Python Notebook.\n",
    "\n",
    "![image](https://user-images.githubusercontent.com/43855029/153649826-000cc8ab-dfb9-43b7-b31c-26ecaf03d0a1.png)"
   ]
  },
  {
   "cell_type": "code",
   "execution_count": null,
   "metadata": {
    "collapsed": false,
    "jupyter": {
     "outputs_hidden": false
    },
    "pycharm": {
     "name": "#%%\n"
    }
   },
   "outputs": [],
   "source": [
    "from sklearn import tree\n",
    "import graphviz\n",
    "dot_data = tree.export_graphviz(model_DT, out_file=None,\n",
    "                                filled=True, rounded=True,\n",
    "                                feature_names=data.feature_names,\n",
    "                                special_characters=True)\n",
    "graph = graphviz.Source(dot_data)\n",
    "graph"
   ]
  },
  {
   "cell_type": "markdown",
   "metadata": {
    "pycharm": {
     "name": "#%% md\n"
    }
   },
   "source": [
    "![image](https://user-images.githubusercontent.com/43855029/154372355-9660f717-0bd4-4f32-aaf1-24ae092fc1ff.png)"
   ]
  },
  {
   "cell_type": "markdown",
   "metadata": {},
   "source": [
    "### How to find the optimial parameters for any ML algorithm?\n",
    "\n",
    "We use GridSearchCV to Search for the optimal parameters in Grid scale using Cross Validation approach\n",
    "\n",
    "The following example showcase how to use GridSearchCV for DecisionTreeRegressor algorithm. Other algorithms are roughly the same with the slight changes in criterion."
   ]
  },
  {
   "cell_type": "code",
   "execution_count": 36,
   "metadata": {},
   "outputs": [
    {
     "name": "stdout",
     "output_type": "stream",
     "text": [
      "Fitting 5 folds for each of 336 candidates, totalling 1680 fits\n"
     ]
    },
    {
     "name": "stderr",
     "output_type": "stream",
     "text": [
      "[Parallel(n_jobs=5)]: Using backend LokyBackend with 5 concurrent workers.\n",
      "[Parallel(n_jobs=5)]: Done 150 tasks      | elapsed:    0.8s\n",
      "[Parallel(n_jobs=5)]: Done 1350 tasks      | elapsed:    7.6s\n"
     ]
    },
    {
     "name": "stdout",
     "output_type": "stream",
     "text": [
      "{'criterion': 'friedman_mse', 'max_depth': 8, 'max_features': None, 'splitter': 'best'}\n"
     ]
    },
    {
     "name": "stderr",
     "output_type": "stream",
     "text": [
      "[Parallel(n_jobs=5)]: Done 1680 out of 1680 | elapsed:    8.8s finished\n"
     ]
    }
   ],
   "source": [
    "# Creating a dictionary of parameters to use in GridSearchCV\n",
    "from sklearn.model_selection import GridSearchCV\n",
    "\n",
    "params = {    \n",
    "    'criterion': ['squared_error', 'friedman_mse', 'absolute_error', 'poisson'],\n",
    "    'max_depth':  [None, 2, 4, 6, 8, 10],\n",
    "    'max_features': [None, 'sqrt', 'log2', 0.2, 0.4, 0.6, 0.8],\n",
    "    'splitter': ['best', 'random']\n",
    "}\n",
    "\n",
    "clf = GridSearchCV(\n",
    "    estimator=DecisionTreeRegressor(),\n",
    "    param_grid=params,\n",
    "    cv=5,\n",
    "    n_jobs=5,\n",
    "    verbose=1,\n",
    ")\n",
    "\n",
    "clf.fit(X_train, y_train)\n",
    "print(clf.best_params_)"
   ]
  },
  {
   "cell_type": "markdown",
   "metadata": {
    "pycharm": {
     "name": "#%% md\n"
    }
   },
   "source": [
    "### 5.4.2 Random Forest\n",
    "\n",
    "![image](https://user-images.githubusercontent.com/43855029/153650870-13494bba-d440-4006-b98a-6fb1509d10d5.png)\n",
    "\n",
    "\n",
    "- Random Forest is considered to be a panacea of all data science problems. On a funny note, when you can’t think of any algorithm (irrespective of situation), use random forest!\n",
    "- Opposite to Decision Tree, Random Forest use bootstrapping technique to grow multiple tree\n",
    "- Random Forest is a versatile machine learning method capable of performing both regression and classification tasks.\n",
    "- It is a type of ensemble learning method, where a group of weak models combine to form a powerful model.\n",
    "- The end output of the model is like a black box and hence should be used judiciously.\n",
    "\n",
    "\n",
    "![image](https://user-images.githubusercontent.com/43855029/153650921-ecc70313-6e17-4bb6-92cb-bab11a39ab0c.png)\n"
   ]
  },
  {
   "cell_type": "code",
   "execution_count": 37,
   "metadata": {
    "collapsed": false,
    "jupyter": {
     "outputs_hidden": false
    },
    "pycharm": {
     "name": "#%%\n"
    }
   },
   "outputs": [
    {
     "name": "stderr",
     "output_type": "stream",
     "text": [
      "/users/tuev/.conda/envs/ML_SKLN/lib/python3.6/site-packages/ipykernel_launcher.py:2: DataConversionWarning: A column-vector y was passed when a 1d array was expected. Please change the shape of y to (n_samples,), for example using ravel().\n",
      "  \n"
     ]
    },
    {
     "name": "stdout",
     "output_type": "stream",
     "text": [
      "R2 using Random Forest is: 0.78 \n",
      "RMSE using Random Forest is: 0.54\n"
     ]
    }
   ],
   "source": [
    "from sklearn.ensemble import RandomForestRegressor\n",
    "model_RF = RandomForestRegressor(n_estimators=10).fit(X_train,y_train)\n",
    "y_pred_RF = model_RF.predict(X_test)\n",
    "\n",
    "print(\"R2 using Random Forest is: %1.2f \" % metrics.r2_score(y_test,y_pred_RF))\n",
    "print(\"RMSE using Random Forest is: %1.2f\" % metrics.mean_squared_error(y_test,y_pred_RF,squared=False))"
   ]
  },
  {
   "cell_type": "code",
   "execution_count": null,
   "metadata": {},
   "outputs": [],
   "source": []
  },
  {
   "cell_type": "markdown",
   "metadata": {
    "pycharm": {
     "name": "#%% md\n"
    }
   },
   "source": [
    "Here we use n=10 estimators (growing using n trees in the forest) and The output is much better:"
   ]
  },
  {
   "cell_type": "markdown",
   "metadata": {
    "pycharm": {
     "name": "#%% md\n"
    }
   },
   "source": [
    "## 5.5 Ensemble Machine Learning\n",
    "\n",
    "- Ensemble is a method in Machine Learning that combine decision from several ML models to obtain optimum output.\n",
    "- Ensemble methods use multiple learning algorithms to obtain better predictive performance than could be obtained from any of the constituent learning algorithms alone. Unlike a statistical ensemble in statistical mechanics, which is usually infinite, a machine learning ensemble consists of only a concrete finite set of alternative models, but typically allows for much more flexible structure to exist among those alternatives\n",
    "- The bonus point when applying both Bagging and Boosting in sklearn that they can be run in parallel!\n",
    "\n",
    "### Types of Ensembles:\n",
    "\n",
    "There are 2 main types of Ensembles in ML:\n",
    "\n",
    "#### Bagging: Boostrap Aggregation\n",
    "\n",
    "- Bagging, also known as bootstrap aggregation, is the ensemble learning method that is commonly used to reduce variance within a noisy dataset.\n",
    "- In bagging, a random sample of data in a training set is selected with replacement—meaning that the individual data points can be chosen more than once.\n",
    "- After several data samples are generated, these weak models are then trained independently, and depending on the type of task—regression or classification, for example—the average or majority of those predictions yield a more accurate estimate. \n",
    "\n",
    "- As a note, the **Random Forest** algorithm is considered an extension of the bagging method, using both bagging and feature randomness to create an uncorrelated forest of decision trees.\n",
    "\n",
    "\n",
    "![image](https://user-images.githubusercontent.com/43855029/153652070-c067fc10-6322-49d1-92ed-b27532af11b6.png)\n",
    "\n",
    "\n",
    "#### Boosting: Boost the weak predictors\n",
    "\n",
    "- Boosting is an ensemble learning method that combines a set of weak learners into a strong learner to minimize training errors.\n",
    "- In boosting, a random sample of data is selected, fitted with a model and then trained sequentially—that is, each model tries to compensate for the weaknesses of its predecessor.\n",
    "- With each iteration, the weak rules from each individual classifier are combined to form one, strong prediction rule. \n",
    "\n",
    "![image](https://user-images.githubusercontent.com/43855029/153652096-4e93d213-58b9-4b27-88fa-e8b42a9cd6e5.png)\n"
   ]
  },
  {
   "cell_type": "markdown",
   "metadata": {
    "pycharm": {
     "name": "#%% md\n"
    }
   },
   "source": [
    "### 5.5.1 Bagging with RandomForest\n",
    "\n",
    "We can apply Bagging to different ML algorithm like Linear Regression, Decision Tree, Random Forest, etc.\n",
    "Following are the syntax:\n"
   ]
  },
  {
   "cell_type": "code",
   "execution_count": null,
   "metadata": {
    "collapsed": false,
    "jupyter": {
     "outputs_hidden": false
    },
    "pycharm": {
     "name": "#%%\n"
    }
   },
   "outputs": [],
   "source": [
    "from sklearn.ensemble import BaggingRegressor, RandomForestRegressor\n",
    "\n",
    "model_RF = RandomForestRegressor()\n",
    "\n",
    "model_bag_RF = BaggingRegressor(base_estimator=model_RF, n_estimators=100,\n",
    "                                bootstrap=True, n_jobs=-1,\n",
    "                                random_state=123)\n",
    "\n",
    "model_bag_RF.fit(X_train, y_train)\n",
    "\n",
    "y_pred_bagRF = model_bag_RF.predict(X_test)\n",
    "\n",
    "print(\"R2 using Bagging Random Forest is: %1.2f \" % metrics.r2_score(y_test,y_pred_bagRF))\n",
    "print(\"RMSE using Baggin Random Forest is: %1.2f\" % metrics.mean_squared_error(y_test,y_pred_bagRF,squared=False))"
   ]
  },
  {
   "cell_type": "markdown",
   "metadata": {
    "pycharm": {
     "name": "#%% md\n"
    }
   },
   "source": [
    "Note that here we use n_estimators = 100 for bagging model (it grows 100 times the RandomForest model).\n",
    "The n_jobs=-1 means that it utilizes all the cores inside a compute nodes that we have\n",
    "\n",
    "And the output is very similar to RandomForest."
   ]
  },
  {
   "cell_type": "markdown",
   "metadata": {
    "pycharm": {
     "name": "#%% md\n"
    }
   },
   "source": [
    "Let's try with some Boosting Ensemble approach:\n",
    "\n",
    "### 5.5.2 Boosting with Adaboost"
   ]
  },
  {
   "cell_type": "code",
   "execution_count": null,
   "metadata": {
    "collapsed": false,
    "jupyter": {
     "outputs_hidden": false
    },
    "pycharm": {
     "name": "#%%\n"
    }
   },
   "outputs": [],
   "source": [
    "from sklearn.ensemble import AdaBoostRegressor\n",
    "model_ADA = AdaBoostRegressor(n_estimators=100, learning_rate=0.03).fit(X_train, y_train)\n",
    "y_pred_ADA = model_ADA.predict(X_test)\n",
    "\n",
    "print(\"R2 using Adaboost is: %1.2f \" % metrics.r2_score(y_test,y_pred_ADA))\n",
    "print(\"RMSE using Adaboost is: %1.2f\" % metrics.mean_squared_error(y_test,y_pred_ADA,squared=False))"
   ]
  },
  {
   "cell_type": "markdown",
   "metadata": {
    "pycharm": {
     "name": "#%% md\n"
    }
   },
   "source": [
    "The output is not as good as Bagging RF"
   ]
  },
  {
   "cell_type": "markdown",
   "metadata": {
    "pycharm": {
     "name": "#%% md\n"
    }
   },
   "source": [
    "### 5.5.3 Gradient Boosting Machine"
   ]
  },
  {
   "cell_type": "code",
   "execution_count": null,
   "metadata": {
    "collapsed": false,
    "jupyter": {
     "outputs_hidden": false
    },
    "pycharm": {
     "name": "#%%\n"
    }
   },
   "outputs": [],
   "source": [
    "from sklearn.ensemble import GradientBoostingRegressor\n",
    "model_GBM = GradientBoostingRegressor(n_estimators=100).fit(X_train,y_train)\n",
    "y_pred_GBM = model_GBM.predict(X_test)\n",
    "\n",
    "print(\"R2 using GBM is: %1.2f \" % metrics.r2_score(y_test,y_pred_GBM))\n",
    "print(\"RMSE using GBM is: %1.2f\" % metrics.mean_squared_error(y_test,y_pred_GBM,squared=False))"
   ]
  },
  {
   "cell_type": "markdown",
   "metadata": {
    "pycharm": {
     "name": "#%% md\n"
    }
   },
   "source": [
    "The output is better than Adaboost."
   ]
  },
  {
   "cell_type": "markdown",
   "metadata": {
    "pycharm": {
     "name": "#%% md\n"
    }
   },
   "source": [
    "### Which is better in Ensemble? Bagging or Boosting?\n",
    "\n",
    "![image](https://user-images.githubusercontent.com/43855029/153654625-d7efe94d-1fc4-4ee6-9b4b-f897f52a909e.png)\n"
   ]
  },
  {
   "cell_type": "markdown",
   "metadata": {
    "pycharm": {
     "name": "#%% md\n"
    }
   },
   "source": [
    "- Ensemble overcome the limitation of using only single model\n",
    "- Between bagging and boosting, there is no better approach without trial & error."
   ]
  }
 ],
 "metadata": {
  "kernelspec": {
   "display_name": "ML_SKLN",
   "language": "python",
   "name": "ml_skln"
  },
  "language_info": {
   "codemirror_mode": {
    "name": "ipython",
    "version": 3
   },
   "file_extension": ".py",
   "mimetype": "text/x-python",
   "name": "python",
   "nbconvert_exporter": "python",
   "pygments_lexer": "ipython3",
   "version": "3.6.13"
  }
 },
 "nbformat": 4,
 "nbformat_minor": 4
}
