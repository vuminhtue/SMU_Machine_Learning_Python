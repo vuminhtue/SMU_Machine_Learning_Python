{
 "cells": [
  {
   "cell_type": "markdown",
   "metadata": {},
   "source": [
    "# Compare different classification tecniques"
   ]
  },
  {
   "cell_type": "markdown",
   "metadata": {},
   "source": [
    "![image](https://miro.medium.com/max/775/1*Qn4eJPhkvrEQ62CtmydLZw.png)"
   ]
  },
  {
   "cell_type": "markdown",
   "metadata": {},
   "source": [
    "- Typical Classification problem with 2, 3, 4 (or more) outputs.\n",
    "- Most of the time the output consists of binary (male/female, spam/nospam,yes/no) \n",
    "- Sometime, there are more than binary output: dog/cat/mouse, red/green/yellow.\n",
    "\n",
    "In this category, we gonna use an existing dataset from [sklearn](https://scikit-learn.org/stable/datasets.html):\n",
    "- [Breast Cancer Wisconsine](https://scikit-learn.org/stable/datasets/toy_dataset.html#breast-cancer-wisconsin-diagnostic-dataset) data for Binary output\n"
   ]
  },
  {
   "cell_type": "code",
   "execution_count": 2,
   "metadata": {},
   "outputs": [
    {
     "name": "stdout",
     "output_type": "stream",
     "text": [
      "There are 30  Predictors:  ['mean radius' 'mean texture' 'mean perimeter' 'mean area'\n",
      " 'mean smoothness' 'mean compactness' 'mean concavity'\n",
      " 'mean concave points' 'mean symmetry' 'mean fractal dimension'\n",
      " 'radius error' 'texture error' 'perimeter error' 'area error'\n",
      " 'smoothness error' 'compactness error' 'concavity error'\n",
      " 'concave points error' 'symmetry error' 'fractal dimension error'\n",
      " 'worst radius' 'worst texture' 'worst perimeter' 'worst area'\n",
      " 'worst smoothness' 'worst compactness' 'worst concavity'\n",
      " 'worst concave points' 'worst symmetry' 'worst fractal dimension']\n",
      "The output has 2 values:  ['malignant' 'benign']\n",
      "Total size of data is  569  rows\n"
     ]
    }
   ],
   "source": [
    "from sklearn.datasets import load_breast_cancer\n",
    "\n",
    "data = load_breast_cancer()\n",
    "X = data.data\n",
    "y = data.target\n",
    "print(\"There are\", X.shape[1], \" Predictors: \", data.feature_names)\n",
    "print(\"The output has 2 values: \", data.target_names)\n",
    "print(\"Total size of data is \", X.shape[0], \" rows\")\n"
   ]
  },
  {
   "cell_type": "markdown",
   "metadata": {},
   "source": [
    "We can see that there are 30 input data representing the shape and size of 569 tumours.\n",
    "Base on that, the tumour can be considered _malignant_ or _benign_ (0 or 1 as in number)\n"
   ]
  },
  {
   "cell_type": "markdown",
   "metadata": {},
   "source": [
    "### Partitioning Data to train/test:"
   ]
  },
  {
   "cell_type": "code",
   "execution_count": 3,
   "metadata": {},
   "outputs": [],
   "source": [
    "from sklearn.model_selection import train_test_split\n",
    "X_train, X_test, y_train, y_test = train_test_split(X, y, test_size=0.6, random_state=123)\n"
   ]
  },
  {
   "cell_type": "markdown",
   "metadata": {},
   "source": [
    "### Train model using Logistic Regression\n",
    "For simplicity, we use all predictors for the regression:\n"
   ]
  },
  {
   "cell_type": "code",
   "execution_count": 12,
   "metadata": {},
   "outputs": [],
   "source": [
    "from sklearn.linear_model import LogisticRegression\n",
    "model_LogReg = LogisticRegression(solver='newton-cg').fit(X_train, y_train)\n",
    "y_pred_LogReg = model_LogReg.predict(X_test)"
   ]
  },
  {
   "cell_type": "markdown",
   "metadata": {},
   "source": [
    "### Train model using Principal Component Regressions and KNN with 4 PCs"
   ]
  },
  {
   "cell_type": "code",
   "execution_count": 6,
   "metadata": {},
   "outputs": [],
   "source": [
    "# First scale the input data:\n",
    "from sklearn.preprocessing import StandardScaler\n",
    "X_train_scaled = StandardScaler().fit_transform(X_train)\n",
    "X_test_scaled = StandardScaler().fit_transform(X_test)"
   ]
  },
  {
   "cell_type": "code",
   "execution_count": 8,
   "metadata": {},
   "outputs": [
    {
     "name": "stdout",
     "output_type": "stream",
     "text": [
      "The first 4 components represent 0.791  total variance\n"
     ]
    }
   ],
   "source": [
    "# Apply PCA:\n",
    "\n",
    "from sklearn.decomposition import PCA\n",
    "pca = PCA()\n",
    "PCs = pca.fit_transform(X_train_scaled)\n",
    "PCs.shape\n",
    "\n",
    "pca.explained_variance_ratio_\n",
    "print(\"The first 4 components represent %1.3f\" % pca.explained_variance_ratio_[0:4].sum(), \" total variance\")"
   ]
  },
  {
   "cell_type": "code",
   "execution_count": 20,
   "metadata": {},
   "outputs": [],
   "source": [
    "from sklearn.neighbors import KNeighborsClassifier\n",
    "import pandas as pd\n",
    "pca = PCA(n_components=4) #We choose number of principal components to be 4\n",
    "\n",
    "X_train_pca = pd.DataFrame(pca.fit_transform(X_train_scaled))\n",
    "X_test_pca = pd.DataFrame(pca.transform(X_test_scaled))\n",
    "X_train_pca.columns = ['PC1','PC2','PC3','PC4']\n",
    "X_test_pca.columns  = ['PC1','PC2','PC3','PC4']\n",
    "\n",
    "# Use KNN to train model\n",
    "model_PCA_KNN = KNeighborsClassifier().fit(X_train_pca, y_train)\n",
    "y_pred_PCA_KNN = model_PCA_KNN.predict(X_test_pca)\n"
   ]
  },
  {
   "cell_type": "markdown",
   "metadata": {},
   "source": [
    "### Train model using ANN MLP"
   ]
  },
  {
   "cell_type": "code",
   "execution_count": 14,
   "metadata": {},
   "outputs": [],
   "source": [
    "# First scale the input data\n",
    "from sklearn.preprocessing import MinMaxScaler\n",
    "scaler = MinMaxScaler()\n",
    "X_train_scaled = scaler.fit_transform(X_train)\n",
    "X_test_scaled = scaler.transform(X_test)"
   ]
  },
  {
   "cell_type": "code",
   "execution_count": 15,
   "metadata": {},
   "outputs": [],
   "source": [
    "# Using MLP to predict \n",
    "from sklearn.neural_network import MLPClassifier\n",
    "model_MLP = MLPClassifier(hidden_layer_sizes = (50,20),solver='lbfgs',activation='relu',random_state=123).fit(X_train_scaled, y_train)\n",
    "y_pred_MLP = model_MLP.predict(X_test_scaled)"
   ]
  },
  {
   "cell_type": "markdown",
   "metadata": {},
   "source": [
    "### Evaluate model output:\n"
   ]
  },
  {
   "cell_type": "code",
   "execution_count": 16,
   "metadata": {},
   "outputs": [
    {
     "name": "stdout",
     "output_type": "stream",
     "text": [
      "The accuracy score from Logistic Regression is 0.965\n",
      "The accuracy score from PCA4 and KNN is 0.974\n",
      "The accuracy score from MLP is 0.971\n"
     ]
    }
   ],
   "source": [
    "from sklearn import metrics\n",
    "print(\"The accuracy score from Logistic Regression is %1.3f\" % metrics.accuracy_score(y_test,y_pred_LogReg))\n",
    "print(\"The accuracy score from PCA4 and KNN is %1.3f\" % metrics.accuracy_score(y_test,y_pred_KNN))\n",
    "print(\"The accuracy score from MLP is %1.3f\" % metrics.accuracy_score(y_test,y_pred_MLP))\n",
    "\n"
   ]
  },
  {
   "cell_type": "markdown",
   "metadata": {},
   "source": [
    "### Compute AUC-ROC and plot curve\n"
   ]
  },
  {
   "cell_type": "code",
   "execution_count": 21,
   "metadata": {},
   "outputs": [
    {
     "name": "stdout",
     "output_type": "stream",
     "text": [
      "No Skill: ROC AUC=0.500\n",
      "Logistic: ROC AUC=0.990\n",
      "PCA KNN: ROC AUC=0.992\n",
      "MLP: ROC AUC=0.982\n"
     ]
    },
    {
     "data": {
      "image/png": "[encoded data removed]",
      "text/plain": [
       "<Figure size 432x288 with 1 Axes>"
      ]
     },
     "metadata": {
      "needs_background": "light"
     },
     "output_type": "display_data"
    }
   ],
   "source": [
    "from sklearn.metrics import roc_curve, roc_auc_score\n",
    "import matplotlib.pyplot as plt\n",
    "import numpy as np\n",
    "\n",
    "probs_LogReg = model_LogReg.predict_proba(X_test)\n",
    "probs_PCA_KNN = model_PCA_KNN.predict_proba(X_test_pca)\n",
    "probs_MLP = model_MLP.predict_proba(X_test_scaled)\n",
    "\n",
    "# generate a no skill prediction (majority class)\n",
    "probs_ns = np.zeros(len(y_test))\n",
    "\n",
    "# calculate AUC scores\n",
    "auc_ns = roc_auc_score(y_test, probs_ns)\n",
    "auc_LogReg = roc_auc_score(y_test, probs_LogReg[:,1])\n",
    "auc_PCA_KNN = roc_auc_score(y_test, probs_PCA_KNN[:,1])\n",
    "auc_MLP = roc_auc_score(y_test, probs_MLP[:,1])\n",
    "\n",
    "# summarize scores\n",
    "print('No Skill: ROC AUC=%.3f' % (auc_ns))\n",
    "print('Logistic: ROC AUC=%.3f' % (auc_LogReg))\n",
    "print('PCA KNN: ROC AUC=%.3f' % (auc_PCA_KNN))\n",
    "print('MLP: ROC AUC=%.3f' % (auc_MLP))\n",
    "\n",
    "# calculate roc curves\n",
    "fpr_ns, tpr_ns, _ = roc_curve(y_test, probs_ns)\n",
    "fpr_LogReg, tpr_LogReg, _ = roc_curve(y_test, probs_LogReg[:,1])\n",
    "fpr_PCA_KNN, tpr_PCA_KNN, _ = roc_curve(y_test, probs_PCA_KNN[:,1])\n",
    "fpr_MLP, tpr_MLP, _ = roc_curve(y_test, probs_MLP[:,1])\n",
    "\n",
    "# plot the roc curve for the model\n",
    "plt.plot(fpr_ns, tpr_ns, linestyle='--', label='No Skill')\n",
    "plt.plot(fpr_LogReg, tpr_LogReg, marker='.', label='Logistic Regression')\n",
    "plt.plot(fpr_PCA_KNN, tpr_PCA_KNN, color=\"red\", label='PCA_KNN')\n",
    "plt.plot(fpr_MLP, tpr_MLP, color=\"blue\", label='MLP')\n",
    "\n",
    "# axis labels\n",
    "plt.xlabel('False Positive Rate')\n",
    "plt.ylabel('True Positive Rate')\n",
    "# show the legend\n",
    "plt.legend()\n",
    "# show the plot\n",
    "plt.show()\n"
   ]
  },
  {
   "cell_type": "code",
   "execution_count": null,
   "metadata": {},
   "outputs": [],
   "source": []
  }
 ],
 "metadata": {
  "kernelspec": {
   "display_name": "ML_SKLN",
   "language": "python",
   "name": "ml_skln"
  },
  "language_info": {
   "codemirror_mode": {
    "name": "ipython",
    "version": 3
   },
   "file_extension": ".py",
   "mimetype": "text/x-python",
   "name": "python",
   "nbconvert_exporter": "python",
   "pygments_lexer": "ipython3",
   "version": "3.6.13"
  }
 },
 "nbformat": 4,
 "nbformat_minor": 4
}
